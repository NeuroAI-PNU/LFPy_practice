{
 "cells": [
  {
   "cell_type": "markdown",
   "metadata": {},
   "source": [
    "## Implementation of Brunel 2000 using the Hybrid LFP scheme\n",
    "* Hybrid LFP scheme example script, applying the methodology with a model\n",
    "implementation similar to:\n",
    "\n",
    "* Nicolas Brunel. \"Dynamics of Sparsely Connected Networks of Excitatory and\n",
    "Inhibitory Spiking Neurons\". J Comput Neurosci, May 2000, Volume 8,\n",
    "Issue 3, pp 183-208\n",
    "\n",
    "* Synopsis of the main simulation procedure:\n",
    "1. Loading of parameterset\n",
    "    a. network parameters\n",
    "    b. parameters for hybrid scheme\n",
    "2. Set up file destinations for different simulation output\n",
    "3. network simulation\n",
    "    a. execute network simulation using NEST (www.nest-initiative.org)\n",
    "    b. merge network output (spikes, currents, voltages)\n",
    "4. Create a object-representation that uses sqlite3 of all the spiking output\n",
    "5. Iterate over post-synaptic populations:\n",
    "    a. Create Population object with appropriate parameters for\n",
    "       each specific population\n",
    "    b. Run all computations for populations\n",
    "    c. Postprocess simulation output of all cells in population\n",
    "6. Postprocess all cell- and population-specific output data\n",
    "7. Create a tarball for all non-redundant simulation output\n",
    "\n",
    "* recommend use mpirun for parallel execution"
   ]
  },
  {
   "cell_type": "code",
   "execution_count": 1,
   "metadata": {},
   "outputs": [
    {
     "name": "stderr",
     "output_type": "stream",
     "text": [
      "Warning: no DISPLAY environment variable.\n",
      "--No graphics will be displayed.\n"
     ]
    },
    {
     "name": "stdout",
     "output_type": "stream",
     "text": [
      "\n",
      "              -- N E S T --\n",
      "  Copyright (C) 2004 The NEST Initiative\n",
      "\n",
      " Version: 3.8.0\n",
      " Built: Aug 27 2024 04:33:06\n",
      "\n",
      " This program is provided AS IS and comes with\n",
      " NO WARRANTY. See the file LICENSE for details.\n",
      "\n",
      " Problems or suggestions?\n",
      "   Visit https://www.nest-simulator.org\n",
      "\n",
      " Type 'nest.help()' to find out more about NEST.\n",
      "\n"
     ]
    },
    {
     "name": "stderr",
     "output_type": "stream",
     "text": [
      "[hyunsu-Precision-7960-Tower:1073084] shmem: mmap: an error occurred while determining whether or not /tmp/ompi.hyunsu-Precision-7960-Tower.1001/jf.0/2991521792/shared_mem_cuda_pool.hyunsu-Precision-7960-Tower could be created.\n",
      "[hyunsu-Precision-7960-Tower:1073084] create_and_attach: unable to create shared memory BTL coordinating structure :: size 134217728 \n"
     ]
    }
   ],
   "source": [
    "from example_plotting import *\n",
    "import brunel_alpha_nest as BN\n",
    "import lfpykit\n",
    "from mpi4py import MPI\n",
    "import h5py\n",
    "from parameters import ParameterSet\n",
    "from hybridLFPy import PostProcess, Population, CachedNetwork, setup_file_dest\n",
    "import neuron  # NEURON compiled with MPI must be imported before NEST/mpi4py\n",
    "from time import time\n",
    "from matplotlib import gridspec\n",
    "import matplotlib.pyplot as plt\n",
    "import os\n",
    "import numpy as np\n",
    "if 'DISPLAY' not in os.environ:\n",
    "    import matplotlib\n",
    "    matplotlib.use('Agg')\n",
    "import matplotlib.style\n",
    "\n",
    "matplotlib.style.use('classic')\n"
   ]
  },
  {
   "cell_type": "code",
   "execution_count": null,
   "metadata": {},
   "outputs": [],
   "source": []
  },
  {
   "cell_type": "markdown",
   "metadata": {},
   "source": []
  },
  {
   "cell_type": "markdown",
   "metadata": {},
   "source": []
  },
  {
   "cell_type": "markdown",
   "metadata": {},
   "source": []
  }
 ],
 "metadata": {
  "kernelspec": {
   "display_name": "lfpy",
   "language": "python",
   "name": "python3"
  },
  "language_info": {
   "codemirror_mode": {
    "name": "ipython",
    "version": 3
   },
   "file_extension": ".py",
   "mimetype": "text/x-python",
   "name": "python",
   "nbconvert_exporter": "python",
   "pygments_lexer": "ipython3",
   "version": "3.12.6"
  }
 },
 "nbformat": 4,
 "nbformat_minor": 2
}
