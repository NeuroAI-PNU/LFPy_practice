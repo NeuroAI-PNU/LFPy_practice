{
 "cells": [
  {
   "cell_type": "markdown",
   "metadata": {},
   "source": [
    "## Implementation of Brunel 2000 using the Hybrid LFP scheme\n",
    "* Hybrid LFP scheme example script, applying the methodology with a model\n",
    "implementation similar to:\n",
    "\n",
    "* Nicolas Brunel. \"Dynamics of Sparsely Connected Networks of Excitatory and\n",
    "Inhibitory Spiking Neurons\". J Comput Neurosci, May 2000, Volume 8,\n",
    "Issue 3, pp 183-208\n",
    "\n",
    "* Synopsis of the main simulation procedure:\n",
    "1. Loading of parameterset\n",
    "    a. network parameters\n",
    "    b. parameters for hybrid scheme\n",
    "2. Set up file destinations for different simulation output\n",
    "3. network simulation\n",
    "    a. execute network simulation using NEST (www.nest-initiative.org)\n",
    "    b. merge network output (spikes, currents, voltages)\n",
    "4. Create a object-representation that uses sqlite3 of all the spiking output\n",
    "5. Iterate over post-synaptic populations:\n",
    "    a. Create Population object with appropriate parameters for\n",
    "       each specific population\n",
    "    b. Run all computations for populations\n",
    "    c. Postprocess simulation output of all cells in population\n",
    "6. Postprocess all cell- and population-specific output data\n",
    "7. Create a tarball for all non-redundant simulation output\n",
    "\n",
    "* recommend use mpirun for parallel execution"
   ]
  },
  {
   "cell_type": "code",
   "execution_count": 3,
   "metadata": {},
   "outputs": [
    {
     "ename": "ModuleNotFoundError",
     "evalue": "No module named 'hybridLFPy'",
     "output_type": "error",
     "traceback": [
      "\u001b[0;31m---------------------------------------------------------------------------\u001b[0m",
      "\u001b[0;31mModuleNotFoundError\u001b[0m                       Traceback (most recent call last)",
      "Cell \u001b[0;32mIn[3], line 7\u001b[0m\n\u001b[1;32m      5\u001b[0m \u001b[38;5;28;01mimport\u001b[39;00m \u001b[38;5;21;01mh5py\u001b[39;00m\n\u001b[1;32m      6\u001b[0m \u001b[38;5;28;01mfrom\u001b[39;00m \u001b[38;5;21;01mparameters\u001b[39;00m \u001b[38;5;28;01mimport\u001b[39;00m ParameterSet\n\u001b[0;32m----> 7\u001b[0m \u001b[38;5;28;01mfrom\u001b[39;00m \u001b[38;5;21;01mhybridLFPy\u001b[39;00m \u001b[38;5;28;01mimport\u001b[39;00m PostProcess, Population, CachedNetwork, setup_file_dest\n\u001b[1;32m      8\u001b[0m \u001b[38;5;28;01mimport\u001b[39;00m \u001b[38;5;21;01mneuron\u001b[39;00m  \u001b[38;5;66;03m# NEURON compiled with MPI must be imported before NEST/mpi4py\u001b[39;00m\n\u001b[1;32m      9\u001b[0m \u001b[38;5;28;01mfrom\u001b[39;00m \u001b[38;5;21;01mtime\u001b[39;00m \u001b[38;5;28;01mimport\u001b[39;00m time\n",
      "\u001b[0;31mModuleNotFoundError\u001b[0m: No module named 'hybridLFPy'"
     ]
    }
   ],
   "source": [
    "from example_plotting import *\n",
    "import brunel_alpha_nest as BN\n",
    "import lfpykit\n",
    "from mpi4py import MPI\n",
    "import h5py\n",
    "from parameters import ParameterSet\n",
    "from hybridLFPy import PostProcess, Population, CachedNetwork, setup_file_dest\n",
    "import neuron  # NEURON compiled with MPI must be imported before NEST/mpi4py\n",
    "from time import time\n",
    "from matplotlib import gridspec\n",
    "import matplotlib.pyplot as plt\n",
    "import os\n",
    "import numpy as np\n",
    "if 'DISPLAY' not in os.environ:\n",
    "    import matplotlib\n",
    "    matplotlib.use('Agg')\n",
    "import matplotlib.style\n",
    "\n",
    "matplotlib.style.use('classic')\n"
   ]
  },
  {
   "cell_type": "code",
   "execution_count": null,
   "metadata": {},
   "outputs": [
    {
     "ename": "",
     "evalue": "",
     "output_type": "error",
     "traceback": [
      "\u001b[1;31mnotebook controller is DISPOSED. \n",
      "\u001b[1;31mView Jupyter <a href='command:jupyter.viewOutput'>log</a> for further details."
     ]
    },
    {
     "ename": "",
     "evalue": "",
     "output_type": "error",
     "traceback": [
      "\u001b[1;31mnotebook controller is DISPOSED. \n",
      "\u001b[1;31mView Jupyter <a href='command:jupyter.viewOutput'>log</a> for further details."
     ]
    }
   ],
   "source": []
  },
  {
   "cell_type": "markdown",
   "metadata": {},
   "source": []
  },
  {
   "cell_type": "markdown",
   "metadata": {},
   "source": []
  },
  {
   "cell_type": "markdown",
   "metadata": {},
   "source": []
  }
 ],
 "metadata": {
  "kernelspec": {
   "display_name": "lfpy",
   "language": "python",
   "name": "python3"
  },
  "language_info": {
   "codemirror_mode": {
    "name": "ipython",
    "version": 3
   },
   "file_extension": ".py",
   "mimetype": "text/x-python",
   "name": "python",
   "nbconvert_exporter": "python",
   "pygments_lexer": "ipython3",
   "version": "3.12.6"
  }
 },
 "nbformat": 4,
 "nbformat_minor": 2
}
