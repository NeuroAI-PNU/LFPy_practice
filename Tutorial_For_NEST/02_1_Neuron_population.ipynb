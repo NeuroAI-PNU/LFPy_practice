{
 "cells": [
  {
   "cell_type": "markdown",
   "metadata": {},
   "source": [
    "## Part 2: Populations of neurons\n"
   ]
  },
  {
   "cell_type": "code",
   "execution_count": 1,
   "metadata": {},
   "outputs": [
    {
     "name": "stderr",
     "output_type": "stream",
     "text": [
      "[admin:1423203] shmem: mmap: an error occurred while determining whether or not /tmp/ompi.admin.1000/jf.0/2291924992/shared_mem_cuda_pool.admin could be created.\n",
      "[admin:1423203] create_and_attach: unable to create shared memory BTL coordinating structure :: size 134217728 \n"
     ]
    },
    {
     "name": "stdout",
     "output_type": "stream",
     "text": [
      "\n",
      "              -- N E S T --\n",
      "  Copyright (C) 2004 The NEST Initiative\n",
      "\n",
      " Version: 3.8.0-post0.dev0\n",
      " Built: Oct  2 2024 11:54:50\n",
      "\n",
      " This program is provided AS IS and comes with\n",
      " NO WARRANTY. See the file LICENSE for details.\n",
      "\n",
      " Problems or suggestions?\n",
      "   Visit https://www.nest-simulator.org\n",
      "\n",
      " Type 'nest.help()' to find out more about NEST.\n",
      "\n"
     ]
    }
   ],
   "source": [
    "# load libraries\n",
    "import nest\n",
    "import matplotlib.pyplot as plt"
   ]
  },
  {
   "cell_type": "code",
   "execution_count": 2,
   "metadata": {},
   "outputs": [],
   "source": [
    "ndict = {\"I_e\": 200.0, \"tau_m\": 20.0}\n",
    "neuronpop = nest.Create(\"iaf_psc_alpha\", 100, params=ndict)"
   ]
  },
  {
   "cell_type": "code",
   "execution_count": 3,
   "metadata": {},
   "outputs": [
    {
     "data": {
      "text/plain": [
       "NodeCollection(metadata=None, model=iaf_psc_alpha, size=100, first=1, last=100)"
      ]
     },
     "execution_count": 3,
     "metadata": {},
     "output_type": "execute_result"
    }
   ],
   "source": [
    "neuronpop"
   ]
  },
  {
   "cell_type": "code",
   "execution_count": 4,
   "metadata": {},
   "outputs": [],
   "source": [
    "## use SetDefaults to set default values for all neurons\n",
    "nest.SetDefaults(\"iaf_psc_alpha\", ndict)\n",
    "neuronpop1 = nest.Create(\"iaf_psc_alpha\", 100)\n",
    "neuronpop2 = nest.Create(\"iaf_psc_alpha\", 100)\n",
    "neuronpop3 = nest.Create(\"iaf_psc_alpha\", 100)"
   ]
  },
  {
   "cell_type": "code",
   "execution_count": 5,
   "metadata": {},
   "outputs": [],
   "source": [
    "## another way is CopyModel\n",
    "edict = {\"I_e\": 200.0, \"tau_m\": 20.0}\n",
    "nest.CopyModel(\"iaf_psc_alpha\", \"exc_iaf_psc_alpha\") \n",
    "# create a new model called exc_iaf_psc_alpha\n",
    "# from existing model iaf_psc_alpha\n",
    "nest.SetDefaults(\"exc_iaf_psc_alpha\", edict)"
   ]
  },
  {
   "cell_type": "code",
   "execution_count": 6,
   "metadata": {},
   "outputs": [],
   "source": [
    "idict = {\"I_e\": 300.0}\n",
    "nest.CopyModel(\"iaf_psc_alpha\", \"inh_iaf_psc_alpha\", params=idict) # one line"
   ]
  },
  {
   "cell_type": "code",
   "execution_count": 7,
   "metadata": {},
   "outputs": [],
   "source": [
    "epop1 = nest.Create(\"exc_iaf_psc_alpha\", 100)\n",
    "epop2 = nest.Create(\"exc_iaf_psc_alpha\", 100)\n",
    "ipop1 = nest.Create(\"inh_iaf_psc_alpha\", 30)\n",
    "ipop2 = nest.Create(\"inh_iaf_psc_alpha\", 30)"
   ]
  },
  {
   "cell_type": "code",
   "execution_count": 8,
   "metadata": {},
   "outputs": [
    {
     "name": "stdout",
     "output_type": "stream",
     "text": [
      "{'I_e': (200.0, 250.0, 300.0, 350.0, 400.0), 'tau_m': (20.0, 20.0, 20.0, 20.0, 20.0), 'V_m': (-70.0, -65.0, -60.0, -55.0, -50.0)}\n"
     ]
    }
   ],
   "source": [
    "# use inhomogeneous parameters for each neuron\n",
    "parameter_dict = {\"I_e\": [200.0, 250.0, 300.0, 350.0, 400.0], \"tau_m\": 20.0, \"V_m\": [-70.0, -65.0, -60.0, -55.0, -50.0]}\n",
    "pop3 = nest.Create(\"iaf_psc_alpha\", 5, params=parameter_dict)\n",
    "print(pop3.get([\"I_e\", \"tau_m\", \"V_m\"]))"
   ]
  },
  {
   "cell_type": "code",
   "execution_count": 9,
   "metadata": {},
   "outputs": [],
   "source": [
    "spikerecorder = nest.Create(\"spike_recorder\")"
   ]
  },
  {
   "cell_type": "code",
   "execution_count": 10,
   "metadata": {},
   "outputs": [],
   "source": [
    "nest.Connect(neuronpop, spikerecorder)\n",
    "nest.Connect(neuronpop1, spikerecorder)\n",
    "nest.Connect(neuronpop2, spikerecorder)\n",
    "nest.Connect(neuronpop3, spikerecorder)\n",
    "nest.Connect(epop1, spikerecorder)\n",
    "nest.Connect(epop2, spikerecorder)\n",
    "nest.Connect(ipop1, spikerecorder)\n",
    "nest.Connect(ipop2, spikerecorder)\n",
    "nest.Connect(pop3, spikerecorder)\n"
   ]
  },
  {
   "cell_type": "code",
   "execution_count": 11,
   "metadata": {},
   "outputs": [
    {
     "name": "stdout",
     "output_type": "stream",
     "text": [
      "\n",
      "Oct 02 12:47:24 NodeManager::prepare_nodes [Info]: \n",
      "    Preparing 666 nodes for simulation.\n",
      "\n",
      "Oct 02 12:47:24 SimulationManager::start_updating_ [Info]: \n",
      "    Number of local nodes: 666\n",
      "    Simulation time (ms): 1000\n",
      "    Number of OpenMP threads: 1\n",
      "    Number of MPI processes: 1\n",
      "\n",
      "Oct 02 12:47:24 SimulationManager::run [Info]: \n",
      "    Simulation finished.\n"
     ]
    }
   ],
   "source": [
    "nest.Simulate(1000.0)"
   ]
  },
  {
   "cell_type": "code",
   "execution_count": 12,
   "metadata": {},
   "outputs": [],
   "source": [
    "events = spikerecorder.get(\"events\")\n",
    "senders = events[\"senders\"]\n",
    "ts = events[\"times\"]"
   ]
  },
  {
   "cell_type": "code",
   "execution_count": 13,
   "metadata": {},
   "outputs": [
    {
     "data": {
      "text/plain": [
       "[<matplotlib.lines.Line2D at 0x757445cd3170>]"
      ]
     },
     "execution_count": 13,
     "metadata": {},
     "output_type": "execute_result"
    },
    {
     "data": {
      "image/png": "[encoded data removed]",
      "text/plain": [
       "<Figure size 640x480 with 1 Axes>"
      ]
     },
     "metadata": {},
     "output_type": "display_data"
    }
   ],
   "source": [
    "plt.plot(ts, senders, \".\")"
   ]
  },
  {
   "cell_type": "code",
   "execution_count": null,
   "metadata": {},
   "outputs": [],
   "source": []
  },
  {
   "cell_type": "code",
   "execution_count": null,
   "metadata": {},
   "outputs": [],
   "source": []
  },
  {
   "cell_type": "code",
   "execution_count": null,
   "metadata": {},
   "outputs": [],
   "source": []
  },
  {
   "cell_type": "code",
   "execution_count": null,
   "metadata": {},
   "outputs": [],
   "source": []
  },
  {
   "cell_type": "code",
   "execution_count": null,
   "metadata": {},
   "outputs": [],
   "source": []
  },
  {
   "cell_type": "code",
   "execution_count": null,
   "metadata": {},
   "outputs": [],
   "source": []
  },
  {
   "cell_type": "markdown",
   "metadata": {},
   "source": []
  },
  {
   "cell_type": "code",
   "execution_count": null,
   "metadata": {},
   "outputs": [],
   "source": []
  }
 ],
 "metadata": {
  "kernelspec": {
   "display_name": "lfpy",
   "language": "python",
   "name": "python3"
  },
  "language_info": {
   "codemirror_mode": {
    "name": "ipython",
    "version": 3
   },
   "file_extension": ".py",
   "mimetype": "text/x-python",
   "name": "python",
   "nbconvert_exporter": "python",
   "pygments_lexer": "ipython3",
   "version": "3.12.6"
  }
 },
 "nbformat": 4,
 "nbformat_minor": 2
}
