{
 "cells": [
  {
   "cell_type": "markdown",
   "metadata": {},
   "source": [
    "## IF curve example\n",
    "* https://nest-simulator.readthedocs.io/en/latest/auto_examples/if_curve.html"
   ]
  },
  {
   "cell_type": "code",
   "execution_count": 1,
   "metadata": {},
   "outputs": [
    {
     "name": "stderr",
     "output_type": "stream",
     "text": [
      "[admin:1815013] shmem: mmap: an error occurred while determining whether or not /tmp/ompi.admin.1000/jf.0/2888761344/shared_mem_cuda_pool.admin could be created.\n",
      "[admin:1815013] create_and_attach: unable to create shared memory BTL coordinating structure :: size 134217728 \n"
     ]
    },
    {
     "name": "stdout",
     "output_type": "stream",
     "text": [
      "\n",
      "              -- N E S T --\n",
      "  Copyright (C) 2004 The NEST Initiative\n",
      "\n",
      " Version: 3.8.0-post0.dev0\n",
      " Built: Oct  2 2024 11:54:50\n",
      "\n",
      " This program is provided AS IS and comes with\n",
      " NO WARRANTY. See the file LICENSE for details.\n",
      "\n",
      " Problems or suggestions?\n",
      "   Visit https://www.nest-simulator.org\n",
      "\n",
      " Type 'nest.help()' to find out more about NEST.\n",
      "\n"
     ]
    }
   ],
   "source": [
    "import shelve\n",
    "\n",
    "import nest\n",
    "import numpy"
   ]
  },
  {
   "cell_type": "code",
   "execution_count": 2,
   "metadata": {},
   "outputs": [
    {
     "name": "stdout",
     "output_type": "stream",
     "text": [
      "I  =  400.0\n",
      "I  =  450.0\n",
      "I  =  500.0\n",
      "I  =  550.0\n",
      "I  =  600.0\n",
      "I  =  650.0\n",
      "I  =  700.0\n",
      "I  =  750.0\n",
      "I  =  800.0\n",
      "I  =  850.0\n"
     ]
    }
   ],
   "source": [
    "model = \"aeif_cond_exp\"\n",
    "params = {\n",
    "    \"a\": 4.0,\n",
    "    \"b\": 80.8,\n",
    "    \"V_th\": -50.4,\n",
    "    \"Delta_T\": 2.0,\n",
    "    \"I_e\": 0.0,\n",
    "    \"C_m\": 281.0,\n",
    "    \"g_L\": 30.0,\n",
    "    \"V_reset\": -70.6,\n",
    "    \"tau_w\": 144.0,\n",
    "    \"t_ref\": 5.0,\n",
    "    \"V_peak\": -40.0,\n",
    "    \"E_L\": -70.6,\n",
    "    \"E_ex\": 0.0,\n",
    "    \"E_in\": -70.0,\n",
    "}\n",
    "\n",
    "\n",
    "class IF_curve:\n",
    "    t_inter_trial = 200.0  # Interval between two successive measurement trials\n",
    "    t_sim = 1000.0  # Duration of a measurement trial\n",
    "    n_neurons = 100  # Number of neurons\n",
    "    n_threads = 4  # Nubmer of threads to run the simulation\n",
    "\n",
    "    def __init__(self, model, params=None):\n",
    "        self.model = model\n",
    "        self.params = params\n",
    "        self.build()\n",
    "        self.connect()\n",
    "\n",
    "    def build(self):\n",
    "        #######################################################################\n",
    "        #  We reset NEST to delete information from previous simulations\n",
    "        # and adjust the number of threads.\n",
    "\n",
    "        nest.ResetKernel()\n",
    "        nest.local_num_threads = self.n_threads\n",
    "\n",
    "        #######################################################################\n",
    "        # We create neurons and devices with specified parameters.\n",
    "\n",
    "        self.neuron = nest.Create(self.model, self.n_neurons, self.params)\n",
    "        self.noise = nest.Create(\"noise_generator\")\n",
    "        self.spike_recorder = nest.Create(\"spike_recorder\")\n",
    "\n",
    "    def connect(self):\n",
    "        #######################################################################\n",
    "        # We connect the noisy current to the neurons and the neurons to\n",
    "        # the spike recorders.\n",
    "\n",
    "        nest.Connect(self.noise, self.neuron, \"all_to_all\")\n",
    "        nest.Connect(self.neuron, self.spike_recorder, \"all_to_all\")\n",
    "\n",
    "    def output_rate(self, mean, std):\n",
    "        self.build()\n",
    "        self.connect()\n",
    "\n",
    "        #######################################################################\n",
    "        # We adjust the parameters of the noise according to the current\n",
    "        # values.\n",
    "\n",
    "        self.noise.set(mean=mean, std=std, start=0.0, stop=1000.0, origin=0.0)\n",
    "\n",
    "        # We simulate the network and calculate the rate.\n",
    "\n",
    "        nest.Simulate(self.t_sim)\n",
    "        rate = self.spike_recorder.n_events * 1000.0 / (1.0 * self.n_neurons * self.t_sim)\n",
    "        return rate\n",
    "\n",
    "    def compute_transfer(self, i_mean=(400.0, 900.0, 50.0), i_std=(0.0, 600.0, 50.0)):\n",
    "        #######################################################################\n",
    "        # We loop through all possible combinations of `(I_mean, I_sigma)`\n",
    "        # and measure the output rate of the neuron.\n",
    "\n",
    "        self.i_range = numpy.arange(*i_mean)\n",
    "        self.std_range = numpy.arange(*i_std)\n",
    "        self.rate = numpy.zeros((self.i_range.size, self.std_range.size))\n",
    "        nest.set_verbosity(\"M_WARNING\")\n",
    "        for n, i in enumerate(self.i_range):\n",
    "            print(\"I  =  {0}\".format(i))\n",
    "            for m, std in enumerate(self.std_range):\n",
    "                self.rate[n, m] = self.output_rate(i, std)\n",
    "\n",
    "\n",
    "transfer = IF_curve(model, params)\n",
    "transfer.compute_transfer()"
   ]
  },
  {
   "cell_type": "code",
   "execution_count": 5,
   "metadata": {},
   "outputs": [],
   "source": [
    "with shelve.open(\"data/\" + model + \"_transfer\") as dat:\n",
    "    dat[\"I_mean\"] = transfer.i_range\n",
    "    dat[\"I_std\"] = transfer.std_range\n",
    "    dat[\"rate\"] = transfer.rate"
   ]
  },
  {
   "cell_type": "code",
   "execution_count": 7,
   "metadata": {},
   "outputs": [
    {
     "data": {
      "text/plain": [
       "array([400., 450., 500., 550., 600., 650., 700., 750., 800., 850.])"
      ]
     },
     "execution_count": 7,
     "metadata": {},
     "output_type": "execute_result"
    }
   ],
   "source": [
    "transfer.i_range"
   ]
  },
  {
   "cell_type": "code",
   "execution_count": 8,
   "metadata": {},
   "outputs": [
    {
     "data": {
      "text/plain": [
       "array([  0.,  50., 100., 150., 200., 250., 300., 350., 400., 450., 500.,\n",
       "       550.])"
      ]
     },
     "execution_count": 8,
     "metadata": {},
     "output_type": "execute_result"
    }
   ],
   "source": [
    "transfer.std_range"
   ]
  },
  {
   "cell_type": "code",
   "execution_count": 12,
   "metadata": {},
   "outputs": [],
   "source": [
    "rate = transfer.rate"
   ]
  },
  {
   "cell_type": "code",
   "execution_count": 13,
   "metadata": {},
   "outputs": [
    {
     "data": {
      "text/plain": [
       "(10, 12)"
      ]
     },
     "execution_count": 13,
     "metadata": {},
     "output_type": "execute_result"
    }
   ],
   "source": [
    "rate.shape"
   ]
  },
  {
   "cell_type": "code",
   "execution_count": 10,
   "metadata": {},
   "outputs": [
    {
     "data": {
      "image/png": "[encoded data removed]",
      "text/plain": [
       "<Figure size 640x480 with 2 Axes>"
      ]
     },
     "metadata": {},
     "output_type": "display_data"
    }
   ],
   "source": [
    "import matplotlib.pyplot as plt\n",
    "\n",
    "plt.figure()\n",
    "plt.imshow(transfer.rate, aspect=\"auto\", origin=\"lower\", extent=[0, 600, 400, 900])\n",
    "plt.colorbar()\n",
    "plt.xlabel(\"Standard deviation of the noise\")\n",
    "plt.ylabel(\"Mean current\")\n",
    "plt.title(\"Transfer function of the IF neuron\")\n",
    "plt.show()\n"
   ]
  },
  {
   "cell_type": "code",
   "execution_count": null,
   "metadata": {},
   "outputs": [],
   "source": []
  }
 ],
 "metadata": {
  "kernelspec": {
   "display_name": "lfpy",
   "language": "python",
   "name": "python3"
  },
  "language_info": {
   "codemirror_mode": {
    "name": "ipython",
    "version": 3
   },
   "file_extension": ".py",
   "mimetype": "text/x-python",
   "name": "python",
   "nbconvert_exporter": "python",
   "pygments_lexer": "ipython3",
   "version": "3.12.6"
  }
 },
 "nbformat": 4,
 "nbformat_minor": 2
}
