{
 "cells": [
  {
   "cell_type": "markdown",
   "metadata": {},
   "source": [
    "## Auto- and crosscorrelation functions for spike trains\n",
    "* https://nest-simulator.readthedocs.io/en/latest/auto_examples/cross_check_mip_corrdet.html\n",
    "\n"
   ]
  },
  {
   "cell_type": "code",
   "execution_count": 2,
   "metadata": {},
   "outputs": [],
   "source": [
    "import nest\n",
    "import numpy as np\n"
   ]
  },
  {
   "cell_type": "code",
   "execution_count": 3,
   "metadata": {},
   "outputs": [],
   "source": [
    "\n",
    "def corr_spikes_sorted(spike1, spike2, tbin, tau_max, resolution):\n",
    "    tau_max_i = int(tau_max / resolution)\n",
    "    tbin_i = int(tbin / resolution)\n",
    "\n",
    "    cross = np.zeros(int(2 * tau_max_i / tbin_i + 1), \"d\")\n",
    "\n",
    "    j0 = 0\n",
    "\n",
    "    for spki in spike1:\n",
    "        j = j0\n",
    "        while j < len(spike2) and spike2[j] - spki < -tau_max_i - tbin_i / 2.0:\n",
    "            j += 1\n",
    "        j0 = j\n",
    "\n",
    "        while j < len(spike2) and spike2[j] - spki < tau_max_i + tbin_i / 2.0:\n",
    "            cross[int((spike2[j] - spki + tau_max_i + 0.5 * tbin_i) / tbin_i)] += 1.0\n",
    "            j += 1\n",
    "\n",
    "    return cross\n",
    "\n",
    "\n",
    "nest.ResetKernel()"
   ]
  },
  {
   "cell_type": "code",
   "execution_count": 4,
   "metadata": {},
   "outputs": [
    {
     "name": "stdout",
     "output_type": "stream",
     "text": [
      "\n",
      "Oct 08 13:39:55 SimulationManager::set_status [Info]: \n",
      "    Temporal resolution changed from 0.1 to 0.1 ms.\n"
     ]
    }
   ],
   "source": [
    "\n",
    "resolution = 0.1  # Computation step size in ms\n",
    "T = 100000.0  # Total duration\n",
    "delta_tau = 10.0\n",
    "tau_max = 100.0  # ms correlation window\n",
    "t_bin = 10.0  # ms bin size\n",
    "pc = 0.5\n",
    "nu = 100.0\n",
    "\n",
    "nest.local_num_threads = 30\n",
    "nest.resolution = resolution\n",
    "nest.overwrite_files = True\n",
    "nest.rng_seed = 12345\n"
   ]
  },
  {
   "cell_type": "code",
   "execution_count": 5,
   "metadata": {},
   "outputs": [
    {
     "name": "stdout",
     "output_type": "stream",
     "text": [
      "\n",
      "Oct 08 13:40:07 NodeManager::prepare_nodes [Info]: \n",
      "    Preparing 63 nodes for simulation.\n",
      "\n",
      "Oct 08 13:40:07 SimulationManager::start_updating_ [Info]: \n",
      "    Number of local nodes: 63\n",
      "    Simulation time (ms): 100000\n",
      "    Number of OpenMP threads: 30\n",
      "    Number of MPI processes: 1\n",
      "\n",
      "Oct 08 13:40:08 SimulationManager::run [Info]: \n",
      "    Simulation finished.\n"
     ]
    }
   ],
   "source": [
    "\n",
    "# Set up network, connect and simulate\n",
    "mg = nest.Create(\"mip_generator\")\n",
    "mg.set(rate=nu, p_copy=pc)\n",
    "\n",
    "cd = nest.Create(\"correlation_detector\")\n",
    "cd.set(tau_max=tau_max, delta_tau=delta_tau)\n",
    "\n",
    "sr = nest.Create(\"spike_recorder\", params={\"time_in_steps\": True})\n",
    "\n",
    "pn1 = nest.Create(\"parrot_neuron\")\n",
    "pn2 = nest.Create(\"parrot_neuron\")\n",
    "\n",
    "\n",
    "nest.Connect(mg, pn1)\n",
    "nest.Connect(mg, pn2)\n",
    "nest.Connect(pn1, sr)\n",
    "nest.Connect(pn2, sr)\n",
    "\n",
    "nest.Connect(pn1, cd, syn_spec={\"weight\": 1.0, \"receptor_type\": 0})\n",
    "nest.Connect(pn2, cd, syn_spec={\"weight\": 1.0, \"receptor_type\": 1})\n",
    "\n",
    "nest.Simulate(T)"
   ]
  },
  {
   "cell_type": "code",
   "execution_count": 6,
   "metadata": {},
   "outputs": [
    {
     "name": "stdout",
     "output_type": "stream",
     "text": [
      "Crosscorrelation:\n",
      "[       0.        0.        0.        0.        0.        0.        0.\n",
      "        0.        0.        0. 24028580.        0.        0.        0.\n",
      "        0.        0.        0.        0.        0.        0.        0.]\n",
      "Sum of crosscorrelation:\n",
      "24028580.0\n"
     ]
    }
   ],
   "source": [
    "\n",
    "n_events_1, n_events_2 = cd.n_events\n",
    "\n",
    "lmbd1 = (n_events_1 / (T - tau_max)) * 1000.0\n",
    "lmbd2 = (n_events_2 / (T - tau_max)) * 1000.0\n",
    "\n",
    "spikes = sr.get(\"events\", \"senders\")\n",
    "\n",
    "sp1 = spikes[spikes == 4]\n",
    "sp2 = spikes[spikes == 5]\n",
    "\n",
    "# Find crosscorrelation\n",
    "cross = corr_spikes_sorted(sp1, sp2, t_bin, tau_max, resolution)\n",
    "\n",
    "print(\"Crosscorrelation:\")\n",
    "print(cross)\n",
    "print(\"Sum of crosscorrelation:\")\n",
    "print(sum(cross))"
   ]
  },
  {
   "cell_type": "code",
   "execution_count": null,
   "metadata": {},
   "outputs": [],
   "source": []
  }
 ],
 "metadata": {
  "kernelspec": {
   "display_name": "lfpy",
   "language": "python",
   "name": "python3"
  },
  "language_info": {
   "codemirror_mode": {
    "name": "ipython",
    "version": 3
   },
   "file_extension": ".py",
   "mimetype": "text/x-python",
   "name": "python",
   "nbconvert_exporter": "python",
   "pygments_lexer": "ipython3",
   "version": "3.12.6"
  }
 },
 "nbformat": 4,
 "nbformat_minor": 2
}
