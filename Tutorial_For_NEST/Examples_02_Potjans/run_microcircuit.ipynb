{
 "cells": [
  {
   "cell_type": "markdown",
   "metadata": {},
   "source": [
    "## Run simulation\n",
    "!!!!\n",
    "Don't run this code in the notebook. It will not work."
   ]
  },
  {
   "cell_type": "code",
   "execution_count": 1,
   "metadata": {},
   "outputs": [
    {
     "name": "stderr",
     "output_type": "stream",
     "text": [
      "[admin:1466235] shmem: mmap: an error occurred while determining whether or not /tmp/ompi.admin.1000/jf.0/3907256320/shared_mem_cuda_pool.admin could be created.\n",
      "[admin:1466235] create_and_attach: unable to create shared memory BTL coordinating structure :: size 134217728 \n"
     ]
    },
    {
     "name": "stdout",
     "output_type": "stream",
     "text": [
      "\n",
      "              -- N E S T --\n",
      "  Copyright (C) 2004 The NEST Initiative\n",
      "\n",
      " Version: 3.8.0-post0.dev0\n",
      " Built: Oct  2 2024 11:54:50\n",
      "\n",
      " This program is provided AS IS and comes with\n",
      " NO WARRANTY. See the file LICENSE for details.\n",
      "\n",
      " Problems or suggestions?\n",
      "   Visit https://www.nest-simulator.org\n",
      "\n",
      " Type 'nest.help()' to find out more about NEST.\n",
      "\n"
     ]
    }
   ],
   "source": [
    "import time\n",
    "\n",
    "import nest\n",
    "import network\n",
    "import numpy as np\n",
    "from network_params import net_dict\n",
    "from sim_params import sim_dict\n",
    "from stimulus_params import stim_dict\n",
    "%load_ext autoreload\n",
    "%autoreload 2\n",
    "time_start = time.time()"
   ]
  },
  {
   "cell_type": "code",
   "execution_count": 2,
   "metadata": {},
   "outputs": [
    {
     "name": "stdout",
     "output_type": "stream",
     "text": [
      "Data will be written to: /home/storage2/hyunsu_DATA/GitHub_Active/LFPy_practice/Tutorial_For_NEST/Examples_02_Potjans/data/\n",
      "  Directory already existed. Old data will be overwritten.\n",
      "\n",
      "\n",
      "RNG seed: 55\n",
      "Total number of virtual processes: 30\n",
      "Creating neuronal populations.\n",
      "\n",
      "Oct 03 06:48:59 SimulationManager::set_status [Info]: "
     ]
    },
    {
     "name": "stderr",
     "output_type": "stream",
     "text": [
      "/home/storage2/hyunsu_DATA/GitHub_Active/LFPy_practice/Tutorial_For_NEST/Examples_02_Potjans/network.py:181: UserWarning:DC input created to compensate missing Poisson input.\n",
      "\n"
     ]
    },
    {
     "name": "stdout",
     "output_type": "stream",
     "text": [
      "\n",
      "    Temporal resolution changed from 0.1 to 0.1 ms.\n",
      "Creating recording devices.\n",
      "  Creating spike recorders.\n",
      "Connecting neuronal populations recurrently.\n",
      "\n",
      "Oct 03 06:49:19 NodeManager::prepare_nodes [Info]: \n",
      "    Simulating 500.0 ms.\n",
      "Preparing 77409 nodes for simulation.\n",
      "\n",
      "Oct 03 06:49:26 NodeManager::prepare_nodes [Info]: \n",
      "    Preparing 77409 nodes for simulation.\n",
      "\n",
      "Oct 03 06:49:26 SimulationManager::start_updating_ [Info]: \n",
      "    Number of local nodes: 77409\n",
      "    Simulation time (ms): 500\n",
      "    Number of OpenMP threads: 30\n",
      "    Number of MPI processes: 1\n",
      "\n",
      "[  24% ] Model time: 118.1 ms, Real-time factor: 9.3486"
     ]
    },
    {
     "ename": "KeyboardInterrupt",
     "evalue": "",
     "output_type": "error",
     "traceback": [
      "\u001b[0;31m---------------------------------------------------------------------------\u001b[0m",
      "\u001b[0;31mKeyboardInterrupt\u001b[0m                         Traceback (most recent call last)",
      "Cell \u001b[0;32mIn[2], line 10\u001b[0m\n\u001b[1;32m      7\u001b[0m net\u001b[38;5;241m.\u001b[39mconnect()\n\u001b[1;32m      8\u001b[0m time_connect \u001b[38;5;241m=\u001b[39m time\u001b[38;5;241m.\u001b[39mtime()\n\u001b[0;32m---> 10\u001b[0m \u001b[43mnet\u001b[49m\u001b[38;5;241;43m.\u001b[39;49m\u001b[43msimulate\u001b[49m\u001b[43m(\u001b[49m\u001b[43msim_dict\u001b[49m\u001b[43m[\u001b[49m\u001b[38;5;124;43m\"\u001b[39;49m\u001b[38;5;124;43mt_presim\u001b[39;49m\u001b[38;5;124;43m\"\u001b[39;49m\u001b[43m]\u001b[49m\u001b[43m)\u001b[49m\n\u001b[1;32m     11\u001b[0m time_presimulate \u001b[38;5;241m=\u001b[39m time\u001b[38;5;241m.\u001b[39mtime()\n\u001b[1;32m     13\u001b[0m net\u001b[38;5;241m.\u001b[39msimulate(sim_dict[\u001b[38;5;124m\"\u001b[39m\u001b[38;5;124mt_sim\u001b[39m\u001b[38;5;124m\"\u001b[39m])\n",
      "File \u001b[0;32m/home/storage2/hyunsu_DATA/GitHub_Active/LFPy_practice/Tutorial_For_NEST/Examples_02_Potjans/network.py:112\u001b[0m, in \u001b[0;36mNetwork.simulate\u001b[0;34m(self, t_sim)\u001b[0m\n\u001b[1;32m    109\u001b[0m \u001b[38;5;28;01mif\u001b[39;00m nest\u001b[38;5;241m.\u001b[39mRank() \u001b[38;5;241m==\u001b[39m \u001b[38;5;241m0\u001b[39m:\n\u001b[1;32m    110\u001b[0m     \u001b[38;5;28mprint\u001b[39m(\u001b[38;5;124m\"\u001b[39m\u001b[38;5;124mSimulating \u001b[39m\u001b[38;5;132;01m{}\u001b[39;00m\u001b[38;5;124m ms.\u001b[39m\u001b[38;5;124m\"\u001b[39m\u001b[38;5;241m.\u001b[39mformat(t_sim))\n\u001b[0;32m--> 112\u001b[0m \u001b[43mnest\u001b[49m\u001b[38;5;241;43m.\u001b[39;49m\u001b[43mSimulate\u001b[49m\u001b[43m(\u001b[49m\u001b[43mt_sim\u001b[49m\u001b[43m)\u001b[49m\n",
      "File \u001b[0;32m~/miniconda3/envs/lfpy/lib/python3.12/site-packages/nest/ll_api.py:216\u001b[0m, in \u001b[0;36mstack_checker.<locals>.stack_checker_func\u001b[0;34m(*args, **kwargs)\u001b[0m\n\u001b[1;32m    213\u001b[0m \u001b[38;5;129m@functools\u001b[39m\u001b[38;5;241m.\u001b[39mwraps(f)\n\u001b[1;32m    214\u001b[0m \u001b[38;5;28;01mdef\u001b[39;00m \u001b[38;5;21mstack_checker_func\u001b[39m(\u001b[38;5;241m*\u001b[39margs, \u001b[38;5;241m*\u001b[39m\u001b[38;5;241m*\u001b[39mkwargs):\n\u001b[1;32m    215\u001b[0m     \u001b[38;5;28;01mif\u001b[39;00m \u001b[38;5;129;01mnot\u001b[39;00m get_debug():\n\u001b[0;32m--> 216\u001b[0m         \u001b[38;5;28;01mreturn\u001b[39;00m \u001b[43mf\u001b[49m\u001b[43m(\u001b[49m\u001b[38;5;241;43m*\u001b[39;49m\u001b[43margs\u001b[49m\u001b[43m,\u001b[49m\u001b[43m \u001b[49m\u001b[38;5;241;43m*\u001b[39;49m\u001b[38;5;241;43m*\u001b[39;49m\u001b[43mkwargs\u001b[49m\u001b[43m)\u001b[49m\n\u001b[1;32m    217\u001b[0m     \u001b[38;5;28;01melse\u001b[39;00m:\n\u001b[1;32m    218\u001b[0m         sr(\u001b[38;5;124m\"\u001b[39m\u001b[38;5;124mcount\u001b[39m\u001b[38;5;124m\"\u001b[39m)\n",
      "File \u001b[0;32m~/miniconda3/envs/lfpy/lib/python3.12/site-packages/nest/lib/hl_api_simulation.py:65\u001b[0m, in \u001b[0;36mSimulate\u001b[0;34m(t)\u001b[0m\n\u001b[1;32m     49\u001b[0m \u001b[38;5;250m\u001b[39m\u001b[38;5;124;03m\"\"\"Simulate the network for `t` milliseconds.\u001b[39;00m\n\u001b[1;32m     50\u001b[0m \n\u001b[1;32m     51\u001b[0m \u001b[38;5;124;03m`Simulate(t)` runs `Prepare()`, `Run(t)`, and `Cleanup()` in this order.\u001b[39;00m\n\u001b[0;32m   (...)\u001b[0m\n\u001b[1;32m     61\u001b[0m \n\u001b[1;32m     62\u001b[0m \u001b[38;5;124;03m\"\"\"\u001b[39;00m\n\u001b[1;32m     64\u001b[0m sps(\u001b[38;5;28mfloat\u001b[39m(t))\n\u001b[0;32m---> 65\u001b[0m \u001b[43msr\u001b[49m\u001b[43m(\u001b[49m\u001b[38;5;124;43m\"\u001b[39;49m\u001b[38;5;124;43mms Simulate\u001b[39;49m\u001b[38;5;124;43m\"\u001b[39;49m\u001b[43m)\u001b[49m\n",
      "File \u001b[0;32m~/miniconda3/envs/lfpy/lib/python3.12/site-packages/nest/ll_api.py:95\u001b[0m, in \u001b[0;36mcatching_sli_run\u001b[0;34m(cmd)\u001b[0m\n\u001b[1;32m     81\u001b[0m \u001b[38;5;28;01mdef\u001b[39;00m \u001b[38;5;21mcatching_sli_run\u001b[39m(cmd):\n\u001b[1;32m     82\u001b[0m \u001b[38;5;250m    \u001b[39m\u001b[38;5;124;03m\"\"\"Send a command string to the NEST kernel to be executed, catch\u001b[39;00m\n\u001b[1;32m     83\u001b[0m \u001b[38;5;124;03m    SLI errors and re-raise them in Python.\u001b[39;00m\n\u001b[1;32m     84\u001b[0m \n\u001b[0;32m   (...)\u001b[0m\n\u001b[1;32m     92\u001b[0m \u001b[38;5;124;03m        SLI errors are bubbled to the Python API as NESTErrors.\u001b[39;00m\n\u001b[1;32m     93\u001b[0m \u001b[38;5;124;03m    \"\"\"\u001b[39;00m\n\u001b[0;32m---> 95\u001b[0m     \u001b[43mengine\u001b[49m\u001b[38;5;241;43m.\u001b[39;49m\u001b[43mrun\u001b[49m\u001b[43m(\u001b[49m\u001b[38;5;124;43m\"\u001b[39;49m\u001b[38;5;124;43m{\u001b[39;49m\u001b[38;5;132;43;01m%s\u001b[39;49;00m\u001b[38;5;124;43m} runprotected\u001b[39;49m\u001b[38;5;124;43m\"\u001b[39;49m\u001b[43m \u001b[49m\u001b[38;5;241;43m%\u001b[39;49m\u001b[43m \u001b[49m\u001b[43mcmd\u001b[49m\u001b[43m)\u001b[49m\n\u001b[1;32m     96\u001b[0m     \u001b[38;5;28;01mif\u001b[39;00m \u001b[38;5;129;01mnot\u001b[39;00m sli_pop():\n\u001b[1;32m     97\u001b[0m         errorname \u001b[38;5;241m=\u001b[39m sli_pop()\n",
      "\u001b[0;31mKeyboardInterrupt\u001b[0m: "
     ]
    }
   ],
   "source": [
    "net = network.Network(sim_dict, net_dict, stim_dict)\n",
    "time_network = time.time()\n",
    "\n",
    "net.create()\n",
    "time_create = time.time()\n",
    "\n",
    "net.connect()\n",
    "time_connect = time.time()\n",
    "\n",
    "net.simulate(sim_dict[\"t_presim\"])\n",
    "time_presimulate = time.time()\n",
    "\n",
    "net.simulate(sim_dict[\"t_sim\"])\n",
    "time_simulate = time.time()"
   ]
  },
  {
   "cell_type": "code",
   "execution_count": null,
   "metadata": {},
   "outputs": [],
   "source": [
    "raster_plot_interval = np.array([stim_dict[\"th_start\"] - 100.0, stim_dict[\"th_start\"] + 100.0])\n",
    "firing_rates_interval = np.array([sim_dict[\"t_presim\"], sim_dict[\"t_presim\"] + sim_dict[\"t_sim\"]])\n",
    "net.evaluate(raster_plot_interval, firing_rates_interval)\n",
    "time_evaluate = time.time()"
   ]
  },
  {
   "cell_type": "code",
   "execution_count": null,
   "metadata": {},
   "outputs": [],
   "source": [
    "print(\n",
    "    \"\\nTimes of Rank {}:\\n\".format(nest.Rank())\n",
    "    + \"  Total time:          {:.3f} s\\n\".format(time_evaluate - time_start)\n",
    "    + \"  Time to initialize:  {:.3f} s\\n\".format(time_network - time_start)\n",
    "    + \"  Time to create:      {:.3f} s\\n\".format(time_create - time_network)\n",
    "    + \"  Time to connect:     {:.3f} s\\n\".format(time_connect - time_create)\n",
    "    + \"  Time to presimulate: {:.3f} s\\n\".format(time_presimulate - time_connect)\n",
    "    + \"  Time to simulate:    {:.3f} s\\n\".format(time_simulate - time_presimulate)\n",
    "    + \"  Time to evaluate:    {:.3f} s\\n\".format(time_evaluate - time_simulate)\n",
    ")"
   ]
  }
 ],
 "metadata": {
  "kernelspec": {
   "display_name": "lfpy",
   "language": "python",
   "name": "python3"
  },
  "language_info": {
   "codemirror_mode": {
    "name": "ipython",
    "version": 3
   },
   "file_extension": ".py",
   "mimetype": "text/x-python",
   "name": "python",
   "nbconvert_exporter": "python",
   "pygments_lexer": "ipython3",
   "version": "3.12.6"
  }
 },
 "nbformat": 4,
 "nbformat_minor": 2
}
