{
 "cells": [
  {
   "cell_type": "markdown",
   "metadata": {},
   "source": [
    "## Simulations with gap junctions\n",
    "* https://nest-simulator.readthedocs.io/en/latest/synapses/simulations_with_gap_junctions.html\n",
    "\n",
    "* Simulations with gap junctions are supported by the Hodgkin-Huxley neuron model hh_psc_alpha_gap. The synapse model to create a gap-junction connection is named gap_junction. Unlike chemical synapses gap junctions are bidirectional connections. In order to create one accurate gap-junction connection two NEST connections are required: For each created connection a second connection with the exact same parameters in the opposite direction is required. NEST provides the possibility to create both connections with a single call to Connect() via the make_symmetric flag (default value: False) of the connection dictionary:\n",
    "\n",
    "### References\n",
    "* Hahne J, et al. 2016. Including Gap Junctions into Distributed Neuronal Network Simulations. In: Amunts K, Grandinetti L, Lippert T, Petkov N. (eds) Brain-Inspired Computing. BrainComp 2015. Lecture Notes in Computer Science(), vol 10087. Springer, Cham. https://doi.org/10.1007/978-3-319-50862-7_4\n",
    "\n",
    "* Hahne J, Helias M, Kunkel S, Igarashi J, Bolten M, Frommer A, Diesmann M 2015. A unified framework for spiking and gap-junction interactions in distributed neuronal network simulations. Frontiers in Neuroinformatics. 9 https://www.frontiersin.org/journals/neuroinformatics/articles/10.3389/fninf.2015.00022\n",
    "\n",
    "* Hahne J, Dahmen D , Schuecker J, Frommer A, Bolten M, Helias M, Diesmann M. 2017. Integration of Continuous-Time Dynamics in a Spiking Neural Network Simulator. Frontiers in Neuroinformatics. 11. https://www.frontiersin.org/journals/neuroinformatics/articles/10.3389/fninf.2017.00034"
   ]
  },
  {
   "cell_type": "code",
   "execution_count": 13,
   "metadata": {},
   "outputs": [],
   "source": [
    "# example code for creating a gap junction between two neurons\n",
    "import nest\n",
    "\n",
    "a = nest.Create(\"hh_psc_alpha_gap\")\n",
    "b = nest.Create(\"hh_psc_alpha_gap\")\n",
    "gap_weight = 0.5\n",
    "syn_dict = {\"synapse_model\": \"gap_junction\", \"weight\": gap_weight}\n",
    "conn_dict = {\"rule\": \"one_to_one\", \"make_symmetric\": True}\n",
    "# Create gap junction between neurons a and b\n",
    "nest.Connect(a, b, conn_dict, syn_dict)\n",
    "nest.ResetKernel()"
   ]
  },
  {
   "cell_type": "code",
   "execution_count": 14,
   "metadata": {},
   "outputs": [],
   "source": [
    "import nest\n",
    "import random\n",
    "import numpy as np\n",
    "\n",
    "# total number of neurons\n",
    "n_neuron = 100\n",
    "\n",
    "# total number of gap junctions\n",
    "n_gap_junction = 3000\n",
    "\n",
    "gap_weight = 0.5"
   ]
  },
  {
   "cell_type": "markdown",
   "metadata": {},
   "source": [
    "### Adjust setting of iterative solution scheme\n",
    "* For simulations with gap junctions, NEST uses an iterative solution scheme based on a numerical method called Jacobi waveform relaxation. The default settings of the iterative method are based on numerical results, benchmarks, and previous experience with gap-junction simulations [2]. and should only be changed with proper knowledge of the method. In general the following parameters can be set via kernel parameters:"
   ]
  },
  {
   "cell_type": "code",
   "execution_count": 15,
   "metadata": {},
   "outputs": [
    {
     "name": "stdout",
     "output_type": "stream",
     "text": [
      "\n",
      "Oct 25 10:49:55 SimulationManager::set_status [Info]: \n",
      "    Waveform communication interval changed successfully. \n"
     ]
    }
   ],
   "source": [
    "nest.use_wfr = True\n",
    "nest.wfr_comm_interval = 1.0\n",
    "nest.wfr_tol = 0.0001\n",
    "nest.wfr_max_iterations = 15\n",
    "nest.wfr_interpolation_order = 3"
   ]
  },
  {
   "cell_type": "code",
   "execution_count": 16,
   "metadata": {},
   "outputs": [],
   "source": [
    "n = nest.Create(\"hh_psc_alpha_gap\", n_neuron)\n",
    "n_list = n.tolist()\n",
    "\n",
    "random.seed(0)\n",
    "\n",
    "\n",
    "# draw n_gap_junction pairs of random samples\n",
    "connections = np.random.choice(n_list, [n_gap_junction, 2])\n",
    "\n",
    "for source_node_id, target_node_id in connections:\n",
    "    nest.Connect(\n",
    "        nest.NodeCollection([source_node_id]),\n",
    "        nest.NodeCollection([target_node_id]),\n",
    "        {\"rule\": \"one_to_one\", \"make_symmetric\": True},\n",
    "        {\"synapse_model\": \"gap_junction\", \"weight\": gap_weight},\n",
    "    )"
   ]
  }
 ],
 "metadata": {
  "kernelspec": {
   "display_name": "lfpy",
   "language": "python",
   "name": "python3"
  },
  "language_info": {
   "codemirror_mode": {
    "name": "ipython",
    "version": 3
   },
   "file_extension": ".py",
   "mimetype": "text/x-python",
   "name": "python",
   "nbconvert_exporter": "python",
   "pygments_lexer": "ipython3",
   "version": "3.12.6"
  }
 },
 "nbformat": 4,
 "nbformat_minor": 2
}
