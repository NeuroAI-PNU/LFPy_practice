{
 "cells": [
  {
   "cell_type": "markdown",
   "metadata": {},
   "source": [
    "## Repeated Stimulation\n",
    "* https://nest-simulator.readthedocs.io/en/latest/auto_examples/repeated_stimulation.html"
   ]
  },
  {
   "cell_type": "code",
   "execution_count": 25,
   "metadata": {},
   "outputs": [],
   "source": [
    "import matplotlib.pyplot as plt\n",
    "import nest\n",
    "import nest.raster_plot"
   ]
  },
  {
   "cell_type": "code",
   "execution_count": 26,
   "metadata": {},
   "outputs": [],
   "source": [
    "rate = 1000.0  # generator rate in spikes/s\n",
    "start = 100.0  # start of simulation relative to trial start, in ms\n",
    "stop = 500.0  # end of simulation relative to trial start, in ms"
   ]
  },
  {
   "cell_type": "code",
   "execution_count": 27,
   "metadata": {},
   "outputs": [],
   "source": [
    "trial_duration = 1000.0  # trial duration, in ms\n",
    "num_trials = 6  # number of trials to perform"
   ]
  },
  {
   "cell_type": "code",
   "execution_count": 28,
   "metadata": {},
   "outputs": [],
   "source": [
    "nest.ResetKernel()\n",
    "pg_params = {\"rate\": rate, \"start\": start, \"stop\": stop}\n",
    "pg = nest.Create(\"poisson_generator\", params=pg_params)"
   ]
  },
  {
   "cell_type": "code",
   "execution_count": 29,
   "metadata": {},
   "outputs": [],
   "source": [
    "sr = nest.Create(\"spike_recorder\")"
   ]
  },
  {
   "cell_type": "code",
   "execution_count": 30,
   "metadata": {},
   "outputs": [],
   "source": [
    "nest.Connect(pg, sr)"
   ]
  },
  {
   "cell_type": "code",
   "execution_count": 31,
   "metadata": {},
   "outputs": [
    {
     "name": "stdout",
     "output_type": "stream",
     "text": [
      "\n",
      "Oct 10 08:16:25 NodeManager::prepare_nodes [Info]: \n",
      "    Preparing 2 nodes for simulation.\n",
      "\n",
      "Oct 10 08:16:25 SimulationManager::start_updating_ [Info]: \n",
      "    Number of local nodes: 2\n",
      "    Simulation time (ms): 1000\n",
      "    Number of OpenMP threads: 1\n",
      "    Number of MPI processes: 1\n",
      "\n",
      "Oct 10 08:16:25 SimulationManager::run [Info]: \n",
      "    Simulation finished.\n",
      "\n",
      "Oct 10 08:16:25 NodeManager::prepare_nodes [Info]: \n",
      "    Preparing 2 nodes for simulation.\n",
      "\n",
      "Oct 10 08:16:25 SimulationManager::start_updating_ [Info]: \n",
      "    Number of local nodes: 2\n",
      "    Simulation time (ms): 1000\n",
      "    Number of OpenMP threads: 1\n",
      "    Number of MPI processes: 1\n",
      "\n",
      "Oct 10 08:16:25 SimulationManager::run [Info]: \n",
      "    Simulation finished.\n",
      "\n",
      "Oct 10 08:16:25 NodeManager::prepare_nodes [Info]: \n",
      "    Preparing 2 nodes for simulation.\n",
      "\n",
      "Oct 10 08:16:25 SimulationManager::start_updating_ [Info]: \n",
      "    Number of local nodes: 2\n",
      "    Simulation time (ms): 1000\n",
      "    Number of OpenMP threads: 1\n",
      "    Number of MPI processes: 1\n",
      "\n",
      "Oct 10 08:16:25 SimulationManager::run [Info]: \n",
      "    Simulation finished.\n",
      "\n",
      "Oct 10 08:16:25 NodeManager::prepare_nodes [Info]: \n",
      "    Preparing 2 nodes for simulation.\n",
      "\n",
      "Oct 10 08:16:25 SimulationManager::start_updating_ [Info]: \n",
      "    Number of local nodes: 2\n",
      "    Simulation time (ms): 1000\n",
      "    Number of OpenMP threads: 1\n",
      "    Number of MPI processes: 1\n",
      "\n",
      "Oct 10 08:16:25 SimulationManager::run [Info]: \n",
      "    Simulation finished.\n",
      "\n",
      "Oct 10 08:16:25 NodeManager::prepare_nodes [Info]: \n",
      "    Preparing 2 nodes for simulation.\n",
      "\n",
      "Oct 10 08:16:25 SimulationManager::start_updating_ [Info]: \n",
      "    Number of local nodes: 2\n",
      "    Simulation time (ms): 1000\n",
      "    Number of OpenMP threads: 1\n",
      "    Number of MPI processes: 1\n",
      "\n",
      "Oct 10 08:16:25 SimulationManager::run [Info]: \n",
      "    Simulation finished.\n",
      "\n",
      "Oct 10 08:16:25 NodeManager::prepare_nodes [Info]: \n",
      "    Preparing 2 nodes for simulation.\n",
      "\n",
      "Oct 10 08:16:25 SimulationManager::start_updating_ [Info]: \n",
      "    Number of local nodes: 2\n",
      "    Simulation time (ms): 1000\n",
      "    Number of OpenMP threads: 1\n",
      "    Number of MPI processes: 1\n",
      "\n",
      "Oct 10 08:16:25 SimulationManager::run [Info]: \n",
      "    Simulation finished.\n"
     ]
    }
   ],
   "source": [
    "for n in range(num_trials):\n",
    "    pg.origin = nest.biological_time # set the origin of the Poisson generator\n",
    "    nest.Simulate(trial_duration) # run simulation for one trial\n",
    "    # total time of simulation is n*trial_duration "
   ]
  },
  {
   "cell_type": "code",
   "execution_count": 32,
   "metadata": {},
   "outputs": [
    {
     "data": {
      "image/png": "[encoded data removed]",
      "text/plain": [
       "<Figure size 640x480 with 2 Axes>"
      ]
     },
     "metadata": {},
     "output_type": "display_data"
    }
   ],
   "source": [
    "nest.raster_plot.from_device(sr, hist=True, hist_binwidth=100.0, title=\"Repeated stimulation by Poisson generator\")\n",
    "plt.show()"
   ]
  },
  {
   "cell_type": "code",
   "execution_count": null,
   "metadata": {},
   "outputs": [],
   "source": []
  }
 ],
 "metadata": {
  "kernelspec": {
   "display_name": "lfpy",
   "language": "python",
   "name": "python3"
  },
  "language_info": {
   "codemirror_mode": {
    "name": "ipython",
    "version": 3
   },
   "file_extension": ".py",
   "mimetype": "text/x-python",
   "name": "python",
   "nbconvert_exporter": "python",
   "pygments_lexer": "ipython3",
   "version": "3.12.6"
  }
 },
 "nbformat": 4,
 "nbformat_minor": 2
}
