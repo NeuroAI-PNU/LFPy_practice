{
 "cells": [
  {
   "cell_type": "markdown",
   "metadata": {},
   "source": [
    "## Parametrizing synapse models\n",
    "* https://nest-simulator.readthedocs.io/en/latest/tutorials/pynest_tutorial/part_3_connecting_networks_with_synapses.html#pynest-tutorial-3"
   ]
  },
  {
   "cell_type": "code",
   "execution_count": 1,
   "metadata": {},
   "outputs": [
    {
     "name": "stderr",
     "output_type": "stream",
     "text": [
      "[admin:1424045] shmem: mmap: an error occurred while determining whether or not /tmp/ompi.admin.1000/jf.0/1374552064/shared_mem_cuda_pool.admin could be created.\n",
      "[admin:1424045] create_and_attach: unable to create shared memory BTL coordinating structure :: size 134217728 \n"
     ]
    },
    {
     "name": "stdout",
     "output_type": "stream",
     "text": [
      "\n",
      "              -- N E S T --\n",
      "  Copyright (C) 2004 The NEST Initiative\n",
      "\n",
      " Version: 3.8.0-post0.dev0\n",
      " Built: Oct  2 2024 11:54:50\n",
      "\n",
      " This program is provided AS IS and comes with\n",
      " NO WARRANTY. See the file LICENSE for details.\n",
      "\n",
      " Problems or suggestions?\n",
      "   Visit https://www.nest-simulator.org\n",
      "\n",
      " Type 'nest.help()' to find out more about NEST.\n",
      "\n"
     ]
    }
   ],
   "source": [
    "import nest\n",
    "import matplotlib.pyplot as plt\n",
    "%matplotlib inline"
   ]
  },
  {
   "cell_type": "code",
   "execution_count": 2,
   "metadata": {},
   "outputs": [],
   "source": [
    "nest.SetDefaults(\"stdp_synapse\",{\"tau_plus\": 15.0})"
   ]
  },
  {
   "cell_type": "code",
   "execution_count": 3,
   "metadata": {},
   "outputs": [],
   "source": [
    "nest.CopyModel(\"stdp_synapse\",\"layer1_stdp_synapse\",{\"Wmax\": 90.0}) # create a new model with a higher Wmax"
   ]
  },
  {
   "cell_type": "code",
   "execution_count": 4,
   "metadata": {},
   "outputs": [
    {
     "data": {
      "text/plain": [
       "{'alpha': 1.0,\n",
       " 'delay': 1.0,\n",
       " 'element_type': 'synapse',\n",
       " 'has_delay': True,\n",
       " 'Kplus': 0.0,\n",
       " 'lambda': 0.01,\n",
       " 'mu_minus': 1.0,\n",
       " 'mu_plus': 1.0,\n",
       " 'num_connections': 0,\n",
       " 'receptor_type': 0,\n",
       " 'requires_symmetric': False,\n",
       " 'sizeof': 96,\n",
       " 'synapse_model': 'stdp_synapse',\n",
       " 'synapse_modelid': 47,\n",
       " 'tau_plus': 15.0,\n",
       " 'Wmax': 100.0,\n",
       " 'weight': 1.0,\n",
       " 'weight_recorder': NodeCollection(<empty>)}"
      ]
     },
     "execution_count": 4,
     "metadata": {},
     "output_type": "execute_result"
    }
   ],
   "source": [
    "nest.GetDefaults(\"stdp_synapse\") # check the default values"
   ]
  },
  {
   "cell_type": "code",
   "execution_count": 5,
   "metadata": {},
   "outputs": [
    {
     "data": {
      "text/plain": [
       "{'archiver_length': 0,\n",
       " 'available': (0,),\n",
       " 'beta_Ca': 0.001,\n",
       " 'C_m': 250.0,\n",
       " 'Ca': 0.0,\n",
       " 'capacity': (0,),\n",
       " 'E_L': -70.0,\n",
       " 'element_type': 'neuron',\n",
       " 'elementsize': 688,\n",
       " 'frozen': False,\n",
       " 'global_id': 0,\n",
       " 'I_e': 0.0,\n",
       " 'instantiations': (0,),\n",
       " 'local': True,\n",
       " 'model': 'iaf_psc_alpha',\n",
       " 'model_id': 50,\n",
       " 'node_uses_wfr': False,\n",
       " 'post_trace': 0.0,\n",
       " 'recordables': ('I_syn_ex', 'I_syn_in', 'V_m'),\n",
       " 'synaptic_elements': {},\n",
       " 't_ref': 2.0,\n",
       " 't_spike': -1.0,\n",
       " 'tau_Ca': 10000.0,\n",
       " 'tau_m': 10.0,\n",
       " 'tau_minus': 20.0,\n",
       " 'tau_minus_triplet': 110.0,\n",
       " 'tau_syn_ex': 2.0,\n",
       " 'tau_syn_in': 2.0,\n",
       " 'thread': -1,\n",
       " 'thread_local_id': -1,\n",
       " 'type_id': 'iaf_psc_alpha',\n",
       " 'V_m': -70.0,\n",
       " 'V_min': -inf,\n",
       " 'V_reset': -70.0,\n",
       " 'V_th': -55.0,\n",
       " 'vp': -1}"
      ]
     },
     "execution_count": 5,
     "metadata": {},
     "output_type": "execute_result"
    }
   ],
   "source": [
    "nest.GetDefaults(\"iaf_psc_alpha\") # check the default values"
   ]
  },
  {
   "cell_type": "code",
   "execution_count": 6,
   "metadata": {},
   "outputs": [],
   "source": [
    "epop1 = nest.Create(\"iaf_psc_alpha\", 10, params={\"tau_minus\": 30.0})\n",
    "epop2 = nest.Create(\"iaf_psc_alpha\", 10, params={\"tau_minus\": 30.0})"
   ]
  },
  {
   "cell_type": "code",
   "execution_count": 7,
   "metadata": {},
   "outputs": [],
   "source": [
    "K = 20\n",
    "conn_dict = {\"rule\": \"fixed_indegree\", \"indegree\": K}\n",
    "syn_dict = {\"synapse_model\": \"stdp_synapse\", \"alpha\": 1.0}\n",
    "nest.Connect(epop1, epop2, conn_dict, syn_dict)"
   ]
  },
  {
   "cell_type": "markdown",
   "metadata": {},
   "source": [
    "### Distributing synapse parameters\n",
    "* parameters associated with the distribution can be set (for example mean). Here we show an example where the parameters alpha and weight of the stdp synapse are uniformly distributed.\n",
    "* See further details in the NEST documentation: https://nest-simulator.readthedocs.io/en/latest/neurons/parametrization.html#param-ex"
   ]
  },
  {
   "cell_type": "code",
   "execution_count": 8,
   "metadata": {},
   "outputs": [],
   "source": [
    "alpha_min = 0.1\n",
    "alpha_max = 2.\n",
    "w_min = 0.5\n",
    "w_max = 5.\n",
    "\n",
    "syn_dict = {\"synapse_model\": \"stdp_synapse\",\n",
    "            \"alpha\": nest.random.uniform(min=alpha_min, max=alpha_max),\n",
    "            \"weight\": nest.random.uniform(min=w_min, max=w_max),\n",
    "            \"delay\": 1.0}\n",
    "nest.Connect(epop1, epop2, \"all_to_all\", syn_dict)"
   ]
  },
  {
   "cell_type": "markdown",
   "metadata": {},
   "source": [
    "### Querying the synapses\n",
    "* The function GetConnections(source=None, target=None, synapse_model=None) returns a SynapseCollection representing connection identifiers that match the given specifications. "
   ]
  },
  {
   "cell_type": "code",
   "execution_count": 9,
   "metadata": {},
   "outputs": [
    {
     "data": {
      "text/plain": [
       "<nest.lib.hl_api_types.SynapseCollection at 0x7632a24c8980>"
      ]
     },
     "execution_count": 9,
     "metadata": {},
     "output_type": "execute_result"
    }
   ],
   "source": [
    "nest.GetConnections(epop1)"
   ]
  },
  {
   "cell_type": "code",
   "execution_count": 10,
   "metadata": {},
   "outputs": [
    {
     "data": {
      "text/plain": [
       "<nest.lib.hl_api_types.SynapseCollection at 0x7632a2308350>"
      ]
     },
     "execution_count": 10,
     "metadata": {},
     "output_type": "execute_result"
    }
   ],
   "source": [
    "nest.GetConnections(target=epop2)"
   ]
  },
  {
   "cell_type": "code",
   "execution_count": 11,
   "metadata": {},
   "outputs": [
    {
     "data": {
      "text/plain": [
       "<nest.lib.hl_api_types.SynapseCollection at 0x7632a24dc080>"
      ]
     },
     "execution_count": 11,
     "metadata": {},
     "output_type": "execute_result"
    }
   ],
   "source": [
    "nest.GetConnections(epop1, epop2, \"stdp_synapse\")"
   ]
  },
  {
   "cell_type": "code",
   "execution_count": 12,
   "metadata": {},
   "outputs": [
    {
     "name": "stdout",
     "output_type": "stream",
     "text": [
      " source   target   synapse model   weight   delay \n",
      "-------- -------- --------------- -------- -------\n",
      "      1       12    stdp_synapse    1.000   1.000\n",
      "      1       18    stdp_synapse    1.000   1.000\n",
      "      1       11    stdp_synapse    1.000   1.000\n",
      "      1       12    stdp_synapse    4.976   1.000\n",
      "      1       11    stdp_synapse    1.000   1.000\n",
      "      1       17    stdp_synapse    1.000   1.000\n",
      "      1       20    stdp_synapse    3.147   1.000\n",
      "      1       11    stdp_synapse   0.6025   1.000\n",
      "      1       15    stdp_synapse    3.532   1.000\n",
      "      1       12    stdp_synapse    1.000   1.000\n",
      "      1       16    stdp_synapse   0.6878   1.000\n",
      "      1       12    stdp_synapse    1.000   1.000\n",
      "      1       13    stdp_synapse    4.212   1.000\n",
      "      1       16    stdp_synapse    1.000   1.000\n",
      "      1       11    stdp_synapse    1.000   1.000\n",
      "     ⋮        ⋮               ⋮        ⋮       ⋮ \n",
      "     10       15    stdp_synapse    1.000   1.000\n",
      "     10       14    stdp_synapse    1.533   1.000\n",
      "     10       19    stdp_synapse    4.404   1.000\n",
      "     10       15    stdp_synapse    1.000   1.000\n",
      "     10       11    stdp_synapse    1.000   1.000\n",
      "     10       20    stdp_synapse    1.000   1.000\n",
      "     10       17    stdp_synapse    3.237   1.000\n",
      "     10       16    stdp_synapse    4.151   1.000\n",
      "     10       12    stdp_synapse    4.598   1.000\n",
      "     10       15    stdp_synapse    1.000   1.000\n",
      "     10       11    stdp_synapse    1.000   1.000\n",
      "     10       11    stdp_synapse    2.076   1.000\n",
      "     10       15    stdp_synapse    1.266   1.000\n",
      "     10       19    stdp_synapse    1.000   1.000\n",
      "     10       20    stdp_synapse    4.608   1.000\n"
     ]
    }
   ],
   "source": [
    "conns = nest.GetConnections(epop1, synapse_model=\"stdp_synapse\")\n",
    "print(conns)"
   ]
  },
  {
   "cell_type": "code",
   "execution_count": 13,
   "metadata": {},
   "outputs": [
    {
     "name": "stdout",
     "output_type": "stream",
     "text": [
      "dict_keys(['Kplus', 'Wmax', 'alpha', 'delay', 'lambda', 'mu_minus', 'mu_plus', 'port', 'receptor', 'sizeof', 'source', 'synapse_id', 'synapse_model', 'target', 'target_thread', 'tau_plus', 'weight'])\n"
     ]
    }
   ],
   "source": [
    "print(conns.get().keys()) # actually, conns is a dictionary and contain much more information than just showed above"
   ]
  },
  {
   "cell_type": "code",
   "execution_count": 14,
   "metadata": {},
   "outputs": [
    {
     "name": "stdout",
     "output_type": "stream",
     "text": [
      "[12, 18, 11, 12, 11, 17, 20, 11, 15, 12, 16, 12, 13, 16, 11, 20, 20, 16, 13, 16, 19, 18, 16, 14, 18, 19, 16, 14, 16, 14, 17, 19, 15, 18, 19, 17, 18, 14, 14, 16, 14, 19, 14, 14, 13, 18, 16, 19, 13, 16, 19, 13, 20, 15, 17, 12, 20, 18, 11, 12, 18, 20, 14, 14, 13, 14, 16, 13, 20, 18, 12, 19, 16, 14, 19, 19, 17, 17, 17, 17, 17, 17, 14, 12, 19, 17, 17, 15, 19, 18, 13, 11, 18, 16, 15, 17, 11, 20, 14, 20, 15, 17, 12, 11, 15, 14, 19, 12, 20, 12, 16, 17, 18, 19, 14, 15, 13, 18, 15, 19, 20, 18, 11, 17, 17, 17, 18, 16, 12, 16, 12, 12, 15, 16, 14, 15, 12, 15, 17, 20, 15, 14, 14, 18, 20, 13, 13, 19, 13, 13, 18, 13, 19, 19, 13, 11, 13, 14, 12, 20, 12, 17, 12, 15, 16, 19, 14, 16, 11, 11, 11, 16, 11, 11, 17, 15, 20, 11, 20, 11, 12, 14, 14, 20, 12, 20, 13, 15, 11, 18, 12, 18, 17, 15, 12, 13, 16, 12, 13, 13, 16, 13, 19, 13, 18, 18, 11, 14, 13, 17, 11, 20, 11, 20, 20, 20, 12, 11, 11, 20, 12, 19, 12, 13, 13, 19, 13, 18, 14, 14, 15, 19, 19, 19, 15, 17, 14, 16, 16, 15, 17, 18, 18, 17, 15, 17, 16, 16, 16, 16, 16, 15, 18, 15, 15, 14, 17, 18, 19, 18, 13, 11, 20, 20, 20, 19, 20, 11, 11, 12, 11, 20, 14, 19, 13, 13, 17, 18, 15, 15, 13, 18, 12, 12, 18, 15, 14, 19, 15, 11, 20, 17, 16, 12, 15, 11, 11, 15, 19, 20]\n"
     ]
    }
   ],
   "source": [
    "targets = conns.get(\"target\")\n",
    "print(targets) # returns the list of targets"
   ]
  },
  {
   "cell_type": "code",
   "execution_count": 15,
   "metadata": {},
   "outputs": [
    {
     "name": "stdout",
     "output_type": "stream",
     "text": [
      "{'target': [12, 18, 11, 12, 11, 17, 20, 11, 15, 12, 16, 12, 13, 16, 11, 20, 20, 16, 13, 16, 19, 18, 16, 14, 18, 19, 16, 14, 16, 14, 17, 19, 15, 18, 19, 17, 18, 14, 14, 16, 14, 19, 14, 14, 13, 18, 16, 19, 13, 16, 19, 13, 20, 15, 17, 12, 20, 18, 11, 12, 18, 20, 14, 14, 13, 14, 16, 13, 20, 18, 12, 19, 16, 14, 19, 19, 17, 17, 17, 17, 17, 17, 14, 12, 19, 17, 17, 15, 19, 18, 13, 11, 18, 16, 15, 17, 11, 20, 14, 20, 15, 17, 12, 11, 15, 14, 19, 12, 20, 12, 16, 17, 18, 19, 14, 15, 13, 18, 15, 19, 20, 18, 11, 17, 17, 17, 18, 16, 12, 16, 12, 12, 15, 16, 14, 15, 12, 15, 17, 20, 15, 14, 14, 18, 20, 13, 13, 19, 13, 13, 18, 13, 19, 19, 13, 11, 13, 14, 12, 20, 12, 17, 12, 15, 16, 19, 14, 16, 11, 11, 11, 16, 11, 11, 17, 15, 20, 11, 20, 11, 12, 14, 14, 20, 12, 20, 13, 15, 11, 18, 12, 18, 17, 15, 12, 13, 16, 12, 13, 13, 16, 13, 19, 13, 18, 18, 11, 14, 13, 17, 11, 20, 11, 20, 20, 20, 12, 11, 11, 20, 12, 19, 12, 13, 13, 19, 13, 18, 14, 14, 15, 19, 19, 19, 15, 17, 14, 16, 16, 15, 17, 18, 18, 17, 15, 17, 16, 16, 16, 16, 16, 15, 18, 15, 15, 14, 17, 18, 19, 18, 13, 11, 20, 20, 20, 19, 20, 11, 11, 12, 11, 20, 14, 19, 13, 13, 17, 18, 15, 15, 13, 18, 12, 12, 18, 15, 14, 19, 15, 11, 20, 17, 16, 12, 15, 11, 11, 15, 19, 20], 'weight': [1.0, 1.0, 1.0, 4.976281530904831, 1.0, 1.0, 3.1471820167058264, 0.6025079990587978, 3.5322994045918836, 1.0, 0.6878351059309551, 1.0, 4.212184204979678, 1.0, 1.0, 1.0, 1.0, 1.0, 1.0, 1.0, 4.228201948710824, 1.0, 1.0, 1.0, 1.0, 1.0, 1.0, 1.0, 1.0, 3.399451563153029, 1.8334925136913394, 1.0, 1.0, 1.4148027995774988, 1.0, 3.58966214432686, 0.9888893492841206, 1.7664284830066772, 1.0, 1.0, 1.0, 1.0, 1.0, 1.0, 1.0, 1.0, 1.0, 1.0, 1.0, 4.674290344348485, 4.392101517914924, 2.4442774198292225, 1.0, 1.5271669227022575, 1.0, 1.0, 4.144000829401147, 1.0, 0.779669342144539, 4.692408355634965, 1.0, 1.0, 1.0, 1.0, 1.0, 1.0, 1.0, 2.6684773312036674, 3.813273865735152, 3.746767928657826, 2.434139196890304, 1.0, 4.477197771708235, 4.240634008235976, 4.384186903949865, 1.0, 1.0, 1.0, 1.0, 1.0, 4.090584477826202, 1.0, 1.0, 1.0, 1.0, 1.0, 1.0, 3.669287942711655, 1.0, 1.0, 1.0, 4.0633447087448005, 1.0, 3.593342966886177, 1.0, 2.820529837493031, 3.1665474343743503, 1.0, 1.0, 2.0532589271025063, 1.0, 1.0, 1.0, 1.0, 1.0, 1.0, 1.0, 2.9369614916271933, 1.0, 1.0, 1.0, 1.0, 1.0, 3.609746545924231, 1.898241012953514, 1.0, 2.4067662806063783, 3.9983622296260046, 1.8981766004843652, 0.6859956232848692, 1.2021593093682128, 1.0, 3.712444258571518, 1.0, 1.0, 1.0, 1.0, 3.611560129805715, 1.0, 1.0, 1.0, 1.7908623018354013, 2.1702262143177813, 1.0, 4.794965327487246, 1.0, 1.0, 1.0, 4.151065209269273, 1.0, 1.0, 1.0, 1.0, 0.7703322676933739, 1.0, 1.0, 3.4833101202154433, 1.0, 2.6700446229439243, 1.0, 3.735894283406776, 1.0, 1.0, 1.0, 1.0, 1.0, 1.0, 1.0, 1.0, 1.0, 1.0, 4.678424824769836, 4.730372768779529, 1.0, 1.0, 3.7104162312155453, 0.5330101330901178, 1.0, 1.0, 1.0, 1.0, 4.987477298989412, 1.8374729555291456, 1.0, 1.0, 4.462896811264924, 1.1716376988178865, 1.0, 3.9700735075046083, 1.0, 1.0, 1.0, 2.4505349566173793, 1.0, 1.0, 1.0, 1.0, 1.0, 1.0, 1.0, 1.0, 4.203658271540334, 1.0, 4.215440168331723, 1.156844350865765, 1.0, 1.0, 1.0, 1.0, 1.0, 1.9038811238968996, 3.2305066390610593, 2.1833486385959064, 1.0, 1.0, 1.0, 4.14665114444073, 1.0, 1.0, 4.016902727374008, 3.5680580580767027, 1.3353935224056634, 1.0, 1.0, 1.0, 1.0, 3.4489406508204534, 1.0, 1.0, 1.0, 1.0, 3.052956355019297, 1.0, 1.0, 1.0, 1.0, 3.7790979634178923, 3.486785041051717, 1.0, 1.0, 1.0, 1.0, 1.0, 1.0, 1.0, 4.238126920389275, 1.9148321631256124, 0.6053558242484393, 1.0, 3.4798666384085877, 1.0, 1.0, 1.0, 1.0, 0.9118085409836252, 1.0, 1.0, 1.0, 1.0, 1.0, 3.3697484105091733, 1.0, 1.0, 1.0, 1.0, 1.2466171501146532, 3.1850895383260105, 1.0, 1.0, 2.3682441652437665, 1.8273768069195513, 1.0, 1.0, 1.0, 1.0, 0.8443738943284245, 1.0, 1.0, 1.0, 1.8105918893668402, 3.4399563221869243, 4.525472779082763, 1.0, 1.0, 1.0, 3.3409159052435005, 1.0, 4.171850085998991, 1.0, 1.0, 1.0, 1.0, 1.0, 1.0, 1.0, 1.0, 1.5334050577208356, 4.403809299260111, 1.0, 1.0, 1.0, 3.2365771541658535, 4.15097557807585, 4.597521392992878, 1.0, 1.0, 2.0759193342501003, 1.2658854513636106, 1.0, 4.607783927258738]}\n"
     ]
    }
   ],
   "source": [
    "conn_vals = conns.get([\"target\",\"weight\"])\n",
    "print(conn_vals) # returns a dictionary with the keys \"target\" and \"weight\""
   ]
  },
  {
   "cell_type": "markdown",
   "metadata": {},
   "source": [
    "### Tips for numbers and variables\n",
    "* If you have a parameters section in your script, and group the variable names according to function (e.g. neuronal parameters, synaptic parameters, stimulation parameters,…) then it is much easier to find and check them. Similarly, if you need to share parameters between simulation scripts, it is much less error-prone to define all the variable names in a separate parameters file, which the individual scripts can import. Thus a good rule of thumb is that numbers should only be visible in distinct parameter files or parameter sections, otherwise they should be represented by variables.\n",
    "\n",
    "* It's good to have parameters.py as a separate file, and import it in the main script. This way, you can easily change the parameters without having to search through the entire script."
   ]
  },
  {
   "cell_type": "markdown",
   "metadata": {},
   "source": [
    "### Loop over neurons\n",
    "* don't use neuron is like below\n",
    "```python\n",
    "for n in range(1,len(neuronpop)+1):\n",
    "    nest.SetStatus(NodeCollection([n]), {\"V_m\": -67.0})\n",
    "```\n",
    "* instead use\n",
    "```python\n",
    "nest.SetStatus(neuronpop, {\"V_m\": -67.0}) # or, even better\n",
    "neuronpop.set(V_m=-67.0)\n",
    "```\n",
    "* If you want to loop over neurons, you can use the following code:\n",
    "```python\n",
    "for n in neuronpop:\n",
    "    my_weird_function(n)\n",
    "```"
   ]
  },
  {
   "cell_type": "markdown",
   "metadata": {},
   "source": []
  }
 ],
 "metadata": {
  "kernelspec": {
   "display_name": "lfpy",
   "language": "python",
   "name": "python3"
  },
  "language_info": {
   "codemirror_mode": {
    "name": "ipython",
    "version": 3
   },
   "file_extension": ".py",
   "mimetype": "text/x-python",
   "name": "python",
   "nbconvert_exporter": "python",
   "pygments_lexer": "ipython3",
   "version": "3.12.6"
  }
 },
 "nbformat": 4,
 "nbformat_minor": 2
}
