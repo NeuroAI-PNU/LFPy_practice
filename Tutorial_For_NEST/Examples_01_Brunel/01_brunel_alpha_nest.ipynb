{
 "cells": [
  {
   "cell_type": "markdown",
   "metadata": {},
   "source": [
    "## Random balanced network (alpha synapses) connected with NEST\n",
    "* https://nest-simulator.readthedocs.io/en/latest/auto_examples/brunel_alpha_nest.html\n",
    "* Brunel N (2000). Dynamics of sparsely connected networks of excitatory and inhibitory spiking neurons. Journal of Computational Neuroscience 8, 183-208."
   ]
  },
  {
   "cell_type": "code",
   "execution_count": 2,
   "metadata": {},
   "outputs": [
    {
     "name": "stderr",
     "output_type": "stream",
     "text": [
      "[admin:1444928] shmem: mmap: an error occurred while determining whether or not /tmp/ompi.admin.1000/jf.0/2836398080/shared_mem_cuda_pool.admin could be created.\n",
      "[admin:1444928] create_and_attach: unable to create shared memory BTL coordinating structure :: size 134217728 \n"
     ]
    },
    {
     "name": "stdout",
     "output_type": "stream",
     "text": [
      "\n",
      "              -- N E S T --\n",
      "  Copyright (C) 2004 The NEST Initiative\n",
      "\n",
      " Version: 3.8.0-post0.dev0\n",
      " Built: Oct  2 2024 11:54:50\n",
      "\n",
      " This program is provided AS IS and comes with\n",
      " NO WARRANTY. See the file LICENSE for details.\n",
      "\n",
      " Problems or suggestions?\n",
      "   Visit https://www.nest-simulator.org\n",
      "\n",
      " Type 'nest.help()' to find out more about NEST.\n",
      "\n"
     ]
    }
   ],
   "source": [
    "import time\n",
    "\n",
    "import matplotlib.pyplot as plt\n",
    "import nest\n",
    "import nest.raster_plot\n",
    "import numpy as np\n",
    "import scipy.special as sp"
   ]
  },
  {
   "cell_type": "code",
   "execution_count": 3,
   "metadata": {},
   "outputs": [],
   "source": [
    "def LambertWm1(x):\n",
    "    # Using scipy to mimic the gsl_sf_lambert_Wm1 function.\n",
    "    return sp.lambertw(x, k=-1 if x < 0 else 0).real\n",
    "\n",
    "\n",
    "def ComputePSPnorm(tauMem, CMem, tauSyn):\n",
    "    a = tauMem / tauSyn\n",
    "    b = 1.0 / tauSyn - 1.0 / tauMem\n",
    "\n",
    "    # time of maximum\n",
    "    t_max = 1.0 / b * (-LambertWm1(-np.exp(-1.0 / a) / a) - 1.0 / a)\n",
    "\n",
    "    # maximum of PSP for current of unit amplitude\n",
    "    return (\n",
    "        np.exp(1.0)\n",
    "        / (tauSyn * CMem * b)\n",
    "        * ((np.exp(-t_max / tauMem) - np.exp(-t_max / tauSyn)) / b - t_max * np.exp(-t_max / tauSyn))\n",
    "    )\n",
    "\n",
    "\n",
    "nest.ResetKernel()"
   ]
  },
  {
   "cell_type": "code",
   "execution_count": 4,
   "metadata": {},
   "outputs": [],
   "source": [
    "startbuild = time.time()"
   ]
  },
  {
   "cell_type": "code",
   "execution_count": 5,
   "metadata": {},
   "outputs": [
    {
     "name": "stdout",
     "output_type": "stream",
     "text": [
      "Building network\n",
      "\n",
      "Oct 02 21:36:33 SimulationManager::set_status [Info]: \n",
      "    Temporal resolution changed from 0.1 to 0.1 ms.\n"
     ]
    }
   ],
   "source": [
    "nest.local_num_threads = 20\n",
    "\n",
    "dt = 0.1  # the resolution in ms\n",
    "simtime = 1000.0  # Simulation time in ms\n",
    "delay = 1.5  # synaptic delay in ms\n",
    "\n",
    "g = 5.0  # ratio inhibitory weight/excitatory weight\n",
    "eta = 2.0  # external rate relative to threshold rate\n",
    "epsilon = 0.1  # connection probability\n",
    "\n",
    "order = 2500\n",
    "NE = 4 * order  # number of excitatory neurons\n",
    "NI = 1 * order  # number of inhibitory neurons\n",
    "N_neurons = NE + NI  # number of neurons in total\n",
    "N_rec = 50  # record from 50 neurons\n",
    "\n",
    "CE = int(epsilon * NE)  # number of excitatory synapses per neuron\n",
    "CI = int(epsilon * NI)  # number of inhibitory synapses per neuron\n",
    "C_tot = int(CI + CE)  # total number of synapses per neuron\n",
    "\n",
    "tauSyn = 0.5  # synaptic time constant in ms\n",
    "tauMem = 20.0  # time constant of membrane potential in ms\n",
    "CMem = 250.0  # capacitance of membrane in in pF\n",
    "theta = 20.0  # membrane threshold potential in mV\n",
    "neuron_params = {\n",
    "    \"C_m\": CMem,\n",
    "    \"tau_m\": tauMem,\n",
    "    \"tau_syn_ex\": tauSyn,\n",
    "    \"tau_syn_in\": tauSyn,\n",
    "    \"t_ref\": 2.0,\n",
    "    \"E_L\": 0.0,\n",
    "    \"V_reset\": 0.0,\n",
    "    \"V_m\": 0.0,\n",
    "    \"V_th\": theta,\n",
    "}\n",
    "J = 0.1  # postsynaptic amplitude in mV\n",
    "J_unit = ComputePSPnorm(tauMem, CMem, tauSyn)\n",
    "J_ex = J / J_unit  # amplitude of excitatory postsynaptic current\n",
    "J_in = -g * J_ex  # amplitude of inhibitory postsynaptic current\n",
    "\n",
    "nu_th = (theta * CMem) / (J_ex * CE * np.exp(1) * tauMem * tauSyn)\n",
    "nu_ex = eta * nu_th\n",
    "p_rate = 1000.0 * nu_ex * CE\n",
    "\n",
    "nest.resolution = dt\n",
    "nest.print_time = True\n",
    "nest.overwrite_files = True\n",
    "\n",
    "print(\"Building network\")"
   ]
  },
  {
   "cell_type": "code",
   "execution_count": 6,
   "metadata": {},
   "outputs": [],
   "source": [
    "nodes_ex = nest.Create(\"iaf_psc_alpha\", NE, params=neuron_params)\n",
    "nodes_in = nest.Create(\"iaf_psc_alpha\", NI, params=neuron_params)\n",
    "noise = nest.Create(\"poisson_generator\", params={\"rate\": p_rate})\n",
    "espikes = nest.Create(\"spike_recorder\")\n",
    "ispikes = nest.Create(\"spike_recorder\")"
   ]
  },
  {
   "cell_type": "code",
   "execution_count": 7,
   "metadata": {},
   "outputs": [
    {
     "name": "stdout",
     "output_type": "stream",
     "text": [
      "Connecting devices\n"
     ]
    }
   ],
   "source": [
    "espikes.set(label=\"data/brunel-py-ex\", record_to=\"ascii\")\n",
    "ispikes.set(label=\"data/brunel-py-in\", record_to=\"ascii\")\n",
    "\n",
    "print(\"Connecting devices\")"
   ]
  },
  {
   "cell_type": "code",
   "execution_count": 8,
   "metadata": {},
   "outputs": [],
   "source": [
    "nest.CopyModel(\"static_synapse\", \"excitatory\", {\"weight\": J_ex, \"delay\": delay})\n",
    "nest.CopyModel(\"static_synapse\", \"inhibitory\", {\"weight\": J_in, \"delay\": delay})"
   ]
  },
  {
   "cell_type": "code",
   "execution_count": 9,
   "metadata": {},
   "outputs": [],
   "source": [
    "nest.Connect(noise, nodes_ex, syn_spec=\"excitatory\")\n",
    "nest.Connect(noise, nodes_in, syn_spec=\"excitatory\")"
   ]
  },
  {
   "cell_type": "code",
   "execution_count": 10,
   "metadata": {},
   "outputs": [
    {
     "name": "stdout",
     "output_type": "stream",
     "text": [
      "Connecting network\n",
      "Excitatory connections\n"
     ]
    }
   ],
   "source": [
    "nest.Connect(nodes_ex[:N_rec], espikes, syn_spec=\"excitatory\")\n",
    "nest.Connect(nodes_in[:N_rec], ispikes, syn_spec=\"excitatory\")\n",
    "\n",
    "print(\"Connecting network\")\n",
    "\n",
    "print(\"Excitatory connections\")"
   ]
  },
  {
   "cell_type": "code",
   "execution_count": 11,
   "metadata": {},
   "outputs": [
    {
     "name": "stdout",
     "output_type": "stream",
     "text": [
      "Inhibitory connections\n"
     ]
    }
   ],
   "source": [
    "conn_params_ex = {\"rule\": \"fixed_indegree\", \"indegree\": CE}\n",
    "nest.Connect(nodes_ex, nodes_ex + nodes_in, conn_params_ex, \"excitatory\")\n",
    "\n",
    "print(\"Inhibitory connections\")"
   ]
  },
  {
   "cell_type": "code",
   "execution_count": 12,
   "metadata": {},
   "outputs": [],
   "source": [
    "\n",
    "conn_params_in = {\"rule\": \"fixed_indegree\", \"indegree\": CI}\n",
    "nest.Connect(nodes_in, nodes_ex + nodes_in, conn_params_in, \"inhibitory\")\n"
   ]
  },
  {
   "cell_type": "code",
   "execution_count": 13,
   "metadata": {},
   "outputs": [],
   "source": [
    "endbuild = time.time()"
   ]
  },
  {
   "cell_type": "code",
   "execution_count": 14,
   "metadata": {},
   "outputs": [
    {
     "name": "stdout",
     "output_type": "stream",
     "text": [
      "Simulating\n",
      "\n",
      "Oct 02 21:36:34 NodeManager::prepare_nodes [Info]: \n",
      "    Preparing 12560 nodes for simulation.\n",
      "\n",
      "Oct 02 21:36:34 SimulationManager::run [Warning]: \n",
      "    The requested simulation time is not an integer multiple of the minimal \n",
      "    delay in the network. This may result in inconsistent results under the \n",
      "    following conditions: (i) A network contains more than one source of \n",
      "    randomness, e.g., two different poisson_generators, and (ii) Simulate is \n",
      "    called repeatedly with simulation times that are not multiples of the \n",
      "    minimal delay.\n",
      "\n",
      "Oct 02 21:36:34 SimulationManager::start_updating_ [Info]: \n",
      "    Number of local nodes: 12560\n",
      "    Simulation time (ms): 1000\n",
      "    Number of OpenMP threads: 20\n",
      "    Number of MPI processes: 1\n",
      "\n",
      "[ 100% ] Model time: 999.0 ms, Real-time factor: 1.5379.0 ms, Real-time factor: 1.5496117.0 ms, Real-time factor: 1.5525\n",
      "\n",
      "Oct 02 21:36:36 SimulationManager::run [Info]: \n",
      "    Simulation finished.\n"
     ]
    }
   ],
   "source": [
    "print(\"Simulating\")\n",
    "\n",
    "nest.Simulate(simtime)"
   ]
  },
  {
   "cell_type": "code",
   "execution_count": 15,
   "metadata": {},
   "outputs": [],
   "source": [
    "endsimulate = time.time()"
   ]
  },
  {
   "cell_type": "code",
   "execution_count": 16,
   "metadata": {},
   "outputs": [],
   "source": [
    "events_ex = espikes.n_events\n",
    "events_in = ispikes.n_events\n",
    "\n",
    "rate_ex = events_ex / simtime * 1000.0 / N_rec\n",
    "rate_in = events_in / simtime * 1000.0 / N_rec"
   ]
  },
  {
   "cell_type": "code",
   "execution_count": 17,
   "metadata": {},
   "outputs": [],
   "source": [
    "num_synapses_ex = nest.GetDefaults(\"excitatory\")[\"num_connections\"]\n",
    "num_synapses_in = nest.GetDefaults(\"inhibitory\")[\"num_connections\"]\n",
    "num_synapses = num_synapses_ex + num_synapses_in"
   ]
  },
  {
   "cell_type": "code",
   "execution_count": 18,
   "metadata": {},
   "outputs": [],
   "source": [
    "build_time = endbuild - startbuild\n",
    "sim_time = endsimulate - endbuild"
   ]
  },
  {
   "cell_type": "code",
   "execution_count": 19,
   "metadata": {},
   "outputs": [
    {
     "name": "stdout",
     "output_type": "stream",
     "text": [
      "Brunel network simulation (Python)\n",
      "Number of neurons : 12500\n",
      "Number of synapses: 15637600\n",
      "       Excitatory : 12512600\n",
      "       Inhibitory : 3125000\n",
      "Excitatory rate   : 28.76 Hz\n",
      "Inhibitory rate   : 28.62 Hz\n",
      "Building time     : 0.54 s\n",
      "Simulation time   : 2.08 s\n"
     ]
    }
   ],
   "source": [
    "print(\"Brunel network simulation (Python)\")\n",
    "print(f\"Number of neurons : {N_neurons}\")\n",
    "print(f\"Number of synapses: {num_synapses}\")\n",
    "print(f\"       Excitatory : {num_synapses_ex}\")\n",
    "print(f\"       Inhibitory : {num_synapses_in}\")\n",
    "print(f\"Excitatory rate   : {rate_ex:.2f} Hz\")\n",
    "print(f\"Inhibitory rate   : {rate_in:.2f} Hz\")\n",
    "print(f\"Building time     : {build_time:.2f} s\")\n",
    "print(f\"Simulation time   : {sim_time:.2f} s\")"
   ]
  },
  {
   "cell_type": "code",
   "execution_count": 20,
   "metadata": {},
   "outputs": [
    {
     "data": {
      "image/png": "[encoded data removed]",
      "text/plain": [
       "<Figure size 640x480 with 2 Axes>"
      ]
     },
     "metadata": {},
     "output_type": "display_data"
    }
   ],
   "source": [
    "nest.raster_plot.from_device(espikes, hist=True)\n",
    "plt.show()"
   ]
  },
  {
   "cell_type": "code",
   "execution_count": 21,
   "metadata": {},
   "outputs": [
    {
     "name": "stdout",
     "output_type": "stream",
     "text": [
      "Help on function Create in module nest.lib.hl_api_nodes:\n",
      "\n",
      "Create(model, n=1, params=None, positions=None)\n",
      "    Create one or more nodes.\n",
      "\n",
      "    Generates `n` new network objects of the supplied model type. If `n` is not\n",
      "    given, a single node is created. Note that if setting parameters of the\n",
      "    nodes fail, the nodes will still have been created.\n",
      "\n",
      "    Note\n",
      "    ----\n",
      "    During network construction, create all nodes representing model neurons first, then all nodes\n",
      "    representing devices (generators, recorders, or detectors), or all devices first and then all neurons.\n",
      "    Otherwise, network connection can be slow, especially in parallel simulations of networks\n",
      "    with many devices.\n",
      "\n",
      "    Parameters\n",
      "    ----------\n",
      "    model : str\n",
      "        Name of the model to create\n",
      "    n : int, optional\n",
      "        Number of nodes to create\n",
      "    params : dict or list, optional\n",
      "        Parameters for the new nodes. Can be any of the following:\n",
      "\n",
      "        - A dictionary with either single values or lists of size n.\n",
      "          The single values will be applied to all nodes, while the lists will be distributed across\n",
      "          the nodes. Both single values and lists can be given at the same time.\n",
      "        - A list with n dictionaries, one dictionary for each node.\n",
      "\n",
      "        Values may be :py:class:`.Parameter` objects. If omitted,\n",
      "        the model's defaults are used.\n",
      "    positions: :py:class:`.grid` or :py:class:`.free` object, optional\n",
      "        Object describing spatial positions of the nodes. If omitted, the nodes have no spatial attachment.\n",
      "\n",
      "    Returns\n",
      "    -------\n",
      "    NodeCollection:\n",
      "        Object representing the IDs of created nodes, see :py:class:`.NodeCollection` for more.\n",
      "\n",
      "    Raises\n",
      "    ------\n",
      "    NESTError\n",
      "        If setting node parameters fail. However, the nodes will still have\n",
      "        been created.\n",
      "    TypeError\n",
      "        If the positions object is of wrong type.\n",
      "\n"
     ]
    }
   ],
   "source": [
    "help(nest.Create)\n"
   ]
  },
  {
   "cell_type": "code",
   "execution_count": null,
   "metadata": {},
   "outputs": [],
   "source": []
  }
 ],
 "metadata": {
  "kernelspec": {
   "display_name": "lfpy",
   "language": "python",
   "name": "python3"
  },
  "language_info": {
   "codemirror_mode": {
    "name": "ipython",
    "version": 3
   },
   "file_extension": ".py",
   "mimetype": "text/x-python",
   "name": "python",
   "nbconvert_exporter": "python",
   "pygments_lexer": "ipython3",
   "version": "3.12.6"
  }
 },
 "nbformat": 4,
 "nbformat_minor": 2
}
