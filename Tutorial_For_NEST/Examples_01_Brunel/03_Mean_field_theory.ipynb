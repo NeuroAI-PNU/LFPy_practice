{
 "cells": [
  {
   "cell_type": "markdown",
   "metadata": {},
   "source": [
    "## Mean field theory\n",
    "* https://nest-simulator.readthedocs.io/en/latest/auto_examples/brunel_siegert_nest.html\n",
    "\n",
    "* This script performs a mean-field analysis of the spiking network of excitatory and an inhibitory population of leaky-integrate-and-fire neurons simulated in brunel_delta_nest.py. We refer to this spiking network of LIF neurons with ‘SLIFN’.\n",
    "\n",
    "* The self-consistent equation for the population-averaged firing rates (eq.27 in [1], [2]) is solved by integrating a pseudo-time dynamics (eq.30 in [1]). The latter constitutes a network of rate neurons, which is simulated here. The asymptotic rates, i.e., the fixed points of the dynamics (eq.30), are the prediction for the population and time-averaged from the spiking simulation.\n",
    "\n",
    "\n",
    "### References\n",
    "[1] Hahne J, Dahmen D, Schuecker J, Frommer A, Bolten M, Helias M and Diesmann M. (2017). Integration of continuous-time dynamics in a spiking neural network simulator. Front. Neuroinform. 11:34. doi: 10.3389/fninf.2017.00034\n",
    "\n",
    "[2] Schuecker J, Schmidt M, van Albada SJ, Diesmann M. and Helias, M. (2017). Fundamental activity constraints lead to specific interpretations of the connectome. PLOS Computational Biology 13(2): e1005179. https://doi.org/10.1371/journal.pcbi.1005179"
   ]
  },
  {
   "cell_type": "code",
   "execution_count": 1,
   "metadata": {},
   "outputs": [
    {
     "name": "stderr",
     "output_type": "stream",
     "text": [
      "[admin:1459654] shmem: mmap: an error occurred while determining whether or not /tmp/ompi.admin.1000/jf.0/3332046848/shared_mem_cuda_pool.admin could be created.\n",
      "[admin:1459654] create_and_attach: unable to create shared memory BTL coordinating structure :: size 134217728 \n"
     ]
    },
    {
     "name": "stdout",
     "output_type": "stream",
     "text": [
      "\n",
      "              -- N E S T --\n",
      "  Copyright (C) 2004 The NEST Initiative\n",
      "\n",
      " Version: 3.8.0-post0.dev0\n",
      " Built: Oct  2 2024 11:54:50\n",
      "\n",
      " This program is provided AS IS and comes with\n",
      " NO WARRANTY. See the file LICENSE for details.\n",
      "\n",
      " Problems or suggestions?\n",
      "   Visit https://www.nest-simulator.org\n",
      "\n",
      " Type 'nest.help()' to find out more about NEST.\n",
      "\n"
     ]
    }
   ],
   "source": [
    "import nest\n",
    "import numpy\n",
    "\n",
    "nest.ResetKernel()"
   ]
  },
  {
   "cell_type": "code",
   "execution_count": 2,
   "metadata": {},
   "outputs": [],
   "source": [
    "dt = 0.1  # the resolution in ms\n",
    "simtime = 1000.0  # Simulation time in ms"
   ]
  },
  {
   "cell_type": "code",
   "execution_count": 3,
   "metadata": {},
   "outputs": [],
   "source": [
    "g = 5.0  # ratio inhibitory weight/excitatory weight\n",
    "eta = 2.0  # external rate relative to threshold rate\n",
    "epsilon = 0.1  # connection probability"
   ]
  },
  {
   "cell_type": "code",
   "execution_count": 4,
   "metadata": {},
   "outputs": [],
   "source": [
    "order = 2500\n",
    "NE = 4 * order  # number of excitatory neurons\n",
    "NI = 1 * order  # number of inhibitory neurons\n",
    "CE = int(epsilon * NE)  # number of excitatory synapses per neuron\n",
    "CI = int(epsilon * NI)  # number of inhibitory synapses per neuron\n",
    "C_tot = int(CI + CE)  # total number of synapses per neuron"
   ]
  },
  {
   "cell_type": "code",
   "execution_count": 5,
   "metadata": {},
   "outputs": [],
   "source": [
    "tauMem = 20.0  # time constant of membrane potential in ms\n",
    "theta = 20.0  # membrane threshold potential in mV\n",
    "neuron_params = {\n",
    "    \"tau_m\": tauMem,\n",
    "    \"t_ref\": 2.0,\n",
    "    \"theta\": theta,\n",
    "    \"V_reset\": 0.0,\n",
    "}\n",
    "\n",
    "J = 0.1  # postsynaptic amplitude in mV in the SLIFN\n",
    "J_ex = J  # amplitude of excitatory postsynaptic potential\n",
    "J_in = -g * J_ex  # amplitude of inhibitory postsynaptic potential\n",
    "# drift_factor in diffusion connections (see [1], eq. 28) for external\n",
    "# drive, excitatory and inhibitory neurons\n",
    "drift_factor_ext = tauMem * 1e-3 * J_ex\n",
    "drift_factor_ex = tauMem * 1e-3 * CE * J_ex\n",
    "drift_factor_in = tauMem * 1e-3 * CI * J_in\n",
    "# diffusion_factor for diffusion connections (see [1], eq. 29)\n",
    "diffusion_factor_ext = tauMem * 1e-3 * J_ex**2\n",
    "diffusion_factor_ex = tauMem * 1e-3 * CE * J_ex**2\n",
    "diffusion_factor_in = tauMem * 1e-3 * CI * J_in**2"
   ]
  },
  {
   "cell_type": "code",
   "execution_count": 6,
   "metadata": {},
   "outputs": [],
   "source": [
    "nu_th = theta / (J * CE * tauMem)\n",
    "nu_ex = eta * nu_th\n",
    "p_rate = 1000.0 * nu_ex * CE"
   ]
  },
  {
   "cell_type": "code",
   "execution_count": 7,
   "metadata": {},
   "outputs": [
    {
     "name": "stdout",
     "output_type": "stream",
     "text": [
      "\n",
      "Oct 03 06:14:11 SimulationManager::set_status [Info]: \n",
      "    Temporal resolution changed from 0.1 to 0.1 ms.\n",
      "Building network\n"
     ]
    }
   ],
   "source": [
    "nest.resolution = dt\n",
    "nest.print_time = True\n",
    "nest.overwrite_files = True\n",
    "nest.local_num_threads = 30\n",
    "print(\"Building network\")"
   ]
  },
  {
   "cell_type": "code",
   "execution_count": 8,
   "metadata": {},
   "outputs": [],
   "source": [
    "siegert_ex = nest.Create(\"siegert_neuron\", params=neuron_params)\n",
    "siegert_in = nest.Create(\"siegert_neuron\", params=neuron_params)"
   ]
  },
  {
   "cell_type": "code",
   "execution_count": 9,
   "metadata": {},
   "outputs": [],
   "source": [
    "# The Poisson drive in the SLIFN is replaced by a driving rate neuron, \n",
    "# which does not receive input from other neurons. \n",
    "# The activity of the rate neuron is controlled by setting mean to the rate \n",
    "# of the corresponding poisson generator in the SLIFN.\n",
    "siegert_drive = nest.Create(\"siegert_neuron\", params={\"mean\": p_rate})"
   ]
  },
  {
   "cell_type": "code",
   "execution_count": 10,
   "metadata": {},
   "outputs": [],
   "source": [
    "multimeter = nest.Create(\"multimeter\", params={\"record_from\": [\"rate\"], \"interval\": dt})"
   ]
  },
  {
   "cell_type": "code",
   "execution_count": 11,
   "metadata": {},
   "outputs": [],
   "source": [
    "syn_dict = {\n",
    "    \"drift_factor\": drift_factor_ext,\n",
    "    \"diffusion_factor\": diffusion_factor_ext,\n",
    "    \"synapse_model\": \"diffusion_connection\",\n",
    "}\n",
    "\n",
    "nest.Connect(siegert_drive, siegert_ex + siegert_in, \"all_to_all\", syn_dict)\n",
    "nest.Connect(multimeter, siegert_ex + siegert_in)"
   ]
  },
  {
   "cell_type": "code",
   "execution_count": 12,
   "metadata": {},
   "outputs": [],
   "source": [
    "syn_dict = {\n",
    "    \"drift_factor\": drift_factor_ex,\n",
    "    \"diffusion_factor\": diffusion_factor_ex,\n",
    "    \"synapse_model\": \"diffusion_connection\",\n",
    "}\n",
    "nest.Connect(siegert_ex, siegert_ex + siegert_in, \"all_to_all\", syn_dict)"
   ]
  },
  {
   "cell_type": "code",
   "execution_count": 13,
   "metadata": {},
   "outputs": [],
   "source": [
    "syn_dict = {\n",
    "    \"drift_factor\": drift_factor_in,\n",
    "    \"diffusion_factor\": diffusion_factor_in,\n",
    "    \"synapse_model\": \"diffusion_connection\",\n",
    "}\n",
    "nest.Connect(siegert_in, siegert_ex + siegert_in, \"all_to_all\", syn_dict)"
   ]
  },
  {
   "cell_type": "code",
   "execution_count": 14,
   "metadata": {},
   "outputs": [
    {
     "name": "stdout",
     "output_type": "stream",
     "text": [
      "\n",
      "Oct 03 06:14:11 NodeManager::prepare_nodes [Info]: \n",
      "    Preparing 33 nodes for simulation. 3 of them use iterative solution \n",
      "    techniques.\n",
      "\n",
      "Oct 03 06:14:11 SimulationManager::start_updating_ [Info]: \n",
      "    Number of local nodes: 33\n",
      "    Simulation time (ms): 1000\n",
      "    Number of OpenMP threads: 30\n",
      "    Number of MPI processes: 1\n",
      "\n",
      "[  66% ] Model time: 658.0 ms, Real-time factor: 0.1279ime: 426.0 ms, Real-time factor: 0.1289"
     ]
    }
   ],
   "source": [
    "nest.Simulate(simtime)"
   ]
  },
  {
   "cell_type": "code",
   "execution_count": 15,
   "metadata": {},
   "outputs": [
    {
     "name": "stdout",
     "output_type": "stream",
     "text": [
      "[ 100% ] Model time: 1000.0 ms, Real-time factor: 0.1276\n",
      "\n",
      "Oct 03 06:14:11 SimulationManager::run [Info]: \n",
      "    Simulation finished.\n"
     ]
    },
    {
     "name": "stdout",
     "output_type": "stream",
     "text": [
      "Excitatory rate   : 32.03 Hz\n",
      "Inhibitory rate   : 32.03 Hz\n"
     ]
    }
   ],
   "source": [
    "data = multimeter.events\n",
    "rates_ex = data[\"rate\"][numpy.where(data[\"senders\"] == siegert_ex.global_id)]\n",
    "rates_in = data[\"rate\"][numpy.where(data[\"senders\"] == siegert_in.global_id)]\n",
    "times = data[\"times\"][numpy.where(data[\"senders\"] == siegert_in.global_id)]\n",
    "print(f\"Excitatory rate   : {rates_ex[-1]:.2f} Hz\")\n",
    "print(f\"Inhibitory rate   : {rates_in[-1]:.2f} Hz\")"
   ]
  },
  {
   "cell_type": "code",
   "execution_count": 16,
   "metadata": {},
   "outputs": [],
   "source": [
    "import matplotlib.pyplot as plt\n",
    "%matplotlib inline"
   ]
  },
  {
   "cell_type": "code",
   "execution_count": 17,
   "metadata": {},
   "outputs": [
    {
     "data": {
      "text/plain": [
       "<matplotlib.legend.Legend at 0x7c5f66771820>"
      ]
     },
     "execution_count": 17,
     "metadata": {},
     "output_type": "execute_result"
    },
    {
     "data": {
      "image/png": "[encoded data removed]",
      "text/plain": [
       "<Figure size 640x480 with 1 Axes>"
      ]
     },
     "metadata": {},
     "output_type": "display_data"
    }
   ],
   "source": [
    "plt.plot(times, rates_ex, label=\"Excitatory\")\n",
    "plt.plot(times, rates_in, label=\"Inhibitory\")\n",
    "plt.xlabel(\"Time (ms)\")\n",
    "plt.ylabel(\"Rate (Hz)\")\n",
    "plt.legend()"
   ]
  },
  {
   "cell_type": "code",
   "execution_count": null,
   "metadata": {},
   "outputs": [],
   "source": []
  },
  {
   "cell_type": "code",
   "execution_count": null,
   "metadata": {},
   "outputs": [],
   "source": []
  },
  {
   "cell_type": "code",
   "execution_count": null,
   "metadata": {},
   "outputs": [],
   "source": []
  },
  {
   "cell_type": "code",
   "execution_count": null,
   "metadata": {},
   "outputs": [],
   "source": []
  }
 ],
 "metadata": {
  "kernelspec": {
   "display_name": "lfpy",
   "language": "python",
   "name": "python3"
  },
  "language_info": {
   "codemirror_mode": {
    "name": "ipython",
    "version": 3
   },
   "file_extension": ".py",
   "mimetype": "text/x-python",
   "name": "python",
   "nbconvert_exporter": "python",
   "pygments_lexer": "ipython3",
   "version": "3.12.6"
  }
 },
 "nbformat": 4,
 "nbformat_minor": 2
}
