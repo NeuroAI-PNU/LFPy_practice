{
 "cells": [
  {
   "cell_type": "markdown",
   "metadata": {},
   "source": [
    "## Recording examples\n",
    "* https://nest-simulator.readthedocs.io/en/latest/auto_examples/recording_demo.html"
   ]
  },
  {
   "cell_type": "code",
   "execution_count": 16,
   "metadata": {},
   "outputs": [],
   "source": [
    "import nest\n",
    "import numpy as np"
   ]
  },
  {
   "cell_type": "code",
   "execution_count": 17,
   "metadata": {},
   "outputs": [],
   "source": [
    "def setup(record_to, time_in_steps):\n",
    "    \"\"\"Set up the network with the given parameters.\"\"\"\n",
    "\n",
    "    nest.ResetKernel()\n",
    "    nest.overwrite_files = True\n",
    "\n",
    "    pg_params = {\"rate\": 1000000.0}\n",
    "    sr_params = {\"record_to\": record_to, \"time_in_steps\": time_in_steps, \"label\": \"iaf_psc_exp\"}\n",
    "\n",
    "    n = nest.Create(\"iaf_psc_exp\")\n",
    "    pg = nest.Create(\"poisson_generator\", 1, pg_params)\n",
    "    sr = nest.Create(\"spike_recorder\", 1, sr_params)\n",
    "\n",
    "    nest.Connect(pg, n, syn_spec={\"weight\": 10.0})\n",
    "    nest.Connect(n, sr)\n",
    "\n",
    "    return sr"
   ]
  },
  {
   "cell_type": "code",
   "execution_count": 18,
   "metadata": {},
   "outputs": [],
   "source": [
    "def get_data(sr):\n",
    "    \"\"\"Get recorded data from the spike_recorder.\"\"\"\n",
    "\n",
    "    if sr.record_to == \"ascii\":\n",
    "        return np.loadtxt(f\"{sr.filenames[0]}\", dtype=object)\n",
    "    if sr.record_to == \"memory\":\n",
    "        return sr.get(\"events\")"
   ]
  },
  {
   "cell_type": "code",
   "execution_count": 19,
   "metadata": {},
   "outputs": [
    {
     "name": "stdout",
     "output_type": "stream",
     "text": [
      "\n",
      "Oct 10 09:54:09 NodeManager::prepare_nodes [Info]: \n",
      "    Preparing 3 nodes for simulation.\n",
      "\n",
      "Oct 10 09:54:09 SimulationManager::start_updating_ [Info]: \n",
      "    Number of local nodes: 3\n",
      "    Simulation time (ms): 30\n",
      "    Number of OpenMP threads: 1\n",
      "    Number of MPI processes: 1\n",
      "\n",
      "Oct 10 09:54:09 SimulationManager::run [Info]: \n",
      "    Simulation finished.\n",
      "simulation resolution in ms: 0.1\n",
      "data recorded by recording backend ascii (time_in_steps=True)\n",
      "[['sender' 'time_step' 'time_offset']\n",
      " ['1' '21' '0.000']\n",
      " ['1' '44' '0.000']\n",
      " ['1' '67' '0.000']\n",
      " ['1' '89' '0.000']\n",
      " ['1' '111' '0.000']\n",
      " ['1' '133' '0.000']\n",
      " ['1' '155' '0.000']\n",
      " ['1' '177' '0.000']\n",
      " ['1' '199' '0.000']\n",
      " ['1' '221' '0.000']\n",
      " ['1' '243' '0.000']\n",
      " ['1' '265' '0.000']\n",
      " ['1' '287' '0.000']]\n",
      "\n",
      "Oct 10 09:54:09 NodeManager::prepare_nodes [Info]: simulation resolution in ms: 0.1\n",
      "data recorded by recording backend memory (time_in_steps=True)\n",
      "{'offsets': array([0., 0., 0., 0., 0., 0., 0., 0., 0., 0., 0., 0., 0.]), 'senders': array([1, 1, 1, 1, 1, 1, 1, 1, 1, 1, 1, 1, 1]), 'times': array([ 21,  44,  67,  89, 111, 133, 155, 177, 199, 221, 243, 265, 287])}\n",
      "\n",
      "    Preparing 3 nodes for simulation.\n",
      "\n",
      "Oct 10 09:54:09 SimulationManager::start_updating_ [Info]: \n",
      "    Number of local nodes: 3\n",
      "    Simulation time (ms): 30\n",
      "    Number of OpenMP threads: 1\n",
      "    Number of MPI processes: 1\n",
      "\n",
      "Oct 10 09:54:09 SimulationManager::run [Info]: \n",
      "    Simulation finished.\n",
      "\n",
      "Oct 10 09:54:09 NodeManager::prepare_nodes [Info]: \n",
      "    Preparing 3 nodes for simulation.\n",
      "\n",
      "Oct 10 09:54:09 SimulationManager::start_updating_ [Info]: \n",
      "    Number of local nodes: 3\n",
      "    Simulation time (ms): 30\n",
      "    Number of OpenMP threads: 1\n",
      "    Number of MPI processes: 1\n",
      "\n",
      "Oct 10 09:54:09 SimulationManager::run [Info]: \n",
      "    Simulation finished.\n",
      "simulation resolution in ms: 0.1\n",
      "data recorded by recording backend ascii (time_in_steps=False)\n",
      "[['sender' 'time_ms']\n",
      " ['1' '2.100']\n",
      " ['1' '4.400']\n",
      " ['1' '6.700']\n",
      " ['1' '8.900']\n",
      " ['1' '11.100']\n",
      " ['1' '13.300']\n",
      " ['1' '15.500']\n",
      " ['1' '17.700']\n",
      " ['1' '19.900']\n",
      " ['1' '22.100']\n",
      " ['1' '24.300']\n",
      " ['1' '26.500']\n",
      " ['1' '28.700']]\n",
      "simulation resolution in ms: 0.1\n",
      "data recorded by recording backend memory (time_in_steps=False)\n",
      "{'senders': array([1, 1, 1, 1, 1, 1, 1, 1, 1, 1, 1, 1, 1]), 'times': array([ 2.1,  4.4,  6.7,  8.9, 11.1, 13.3, 15.5, 17.7, 19.9, 22.1, 24.3,\n",
      "       26.5, 28.7])}\n",
      "\n",
      "Oct 10 09:54:09 NodeManager::prepare_nodes [Info]: \n",
      "    Preparing 3 nodes for simulation.\n",
      "\n",
      "Oct 10 09:54:09 SimulationManager::start_updating_ [Info]: \n",
      "    Number of local nodes: 3\n",
      "    Simulation time (ms): 30\n",
      "    Number of OpenMP threads: 1\n",
      "    Number of MPI processes: 1\n",
      "\n",
      "Oct 10 09:54:09 SimulationManager::run [Info]: \n",
      "    Simulation finished.\n"
     ]
    }
   ],
   "source": [
    "# Just loop through some recording backends and settings\n",
    "nest.overwrite_files = True\n",
    "nest.data_path = \"data\"\n",
    "nest.data_prefix = \"\"\n",
    "for time_in_steps in (True, False):\n",
    "    for record_to in (\"ascii\", \"memory\"):\n",
    "        sr = setup(record_to, time_in_steps)\n",
    "        nest.Simulate(30.0)\n",
    "        data = get_data(sr)\n",
    "        print(f\"simulation resolution in ms: {nest.resolution}\")\n",
    "        print(f\"data recorded by recording backend {record_to} (time_in_steps={time_in_steps})\")\n",
    "        print(data)"
   ]
  }
 ],
 "metadata": {
  "kernelspec": {
   "display_name": "lfpy",
   "language": "python",
   "name": "python3"
  },
  "language_info": {
   "codemirror_mode": {
    "name": "ipython",
    "version": 3
   },
   "file_extension": ".py",
   "mimetype": "text/x-python",
   "name": "python",
   "nbconvert_exporter": "python",
   "pygments_lexer": "ipython3",
   "version": "3.12.6"
  }
 },
 "nbformat": 4,
 "nbformat_minor": 2
}
