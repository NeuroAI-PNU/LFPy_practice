{
 "cells": [
  {
   "cell_type": "markdown",
   "metadata": {},
   "source": [
    "## Test implementation using cell models of the Blue Brain Project with LFPy.\n",
    "* https://github.com/LFPy/LFPy/blob/master/examples/example_EPFL_neurons.py\n",
    "\n",
    "* The example assumes that the complete set of cell models available from\n",
    "https://bbpnmc.epfl.ch/nmc-portal/downloads is unzipped in this folder.\n",
    "\n",
    "[!] Since the portal of epfl is temporarily down, the models are not available. \n",
    "\n",
    "\n",
    "```\n",
    "Copyright (C) 2017 Computational Neuroscience Group, NMBU.\n",
    "\n",
    "This program is free software: you can redistribute it and/or modify\n",
    "it under the terms of the GNU General Public License as published by\n",
    "the Free Software Foundation, either version 3 of the License, or\n",
    "(at your option) any later version.\n",
    "\n",
    "This program is distributed in the hope that it will be useful,\n",
    "but WITHOUT ANY WARRANTY; without even the implied warranty of\n",
    "MERCHANTABILITY or FITNESS FOR A PARTICULAR PURPOSE.  See the\n",
    "GNU General Public License for more details.\n",
    "```"
   ]
  },
  {
   "cell_type": "code",
   "execution_count": 2,
   "metadata": {},
   "outputs": [],
   "source": [
    "import os\n",
    "import posixpath\n",
    "import sys\n",
    "import matplotlib.pyplot as plt\n",
    "from matplotlib.gridspec import GridSpec\n",
    "from matplotlib.collections import PolyCollection, LineCollection\n",
    "from glob import glob\n",
    "import numpy as np\n",
    "from warnings import warn\n",
    "import scipy.signal as ss\n",
    "import neuron\n",
    "import LFPy\n",
    "from LFPy.test.common import build_test_NMODL_files\n",
    "from mpi4py import MPI\n",
    "%matplotlib inline"
   ]
  },
  {
   "cell_type": "code",
   "execution_count": 3,
   "metadata": {},
   "outputs": [],
   "source": [
    "\n",
    "plt.rcParams.update({\n",
    "    'axes.labelsize': 8,\n",
    "    'axes.titlesize': 8,\n",
    "    'font.size': 8,\n",
    "    'ytick.labelsize': 8,\n",
    "    'xtick.labelsize': 8,\n",
    "})\n",
    "\n",
    "COMM = MPI.COMM_WORLD\n",
    "SIZE = COMM.Get_size()\n",
    "RANK = COMM.Get_rank()"
   ]
  },
  {
   "cell_type": "code",
   "execution_count": 4,
   "metadata": {},
   "outputs": [
    {
     "data": {
      "text/plain": [
       "1.0"
      ]
     },
     "execution_count": 4,
     "metadata": {},
     "output_type": "execute_result"
    }
   ],
   "source": [
    "# working dir\n",
    "CWD = os.getcwd()\n",
    "NMODL = 'hoc_combos_syn.1_0_10.allmods'\n",
    "\n",
    "# load some required neuron-interface files\n",
    "neuron.h.load_file(\"stdrun.hoc\")\n",
    "neuron.h.load_file(\"import3d.hoc\")"
   ]
  },
  {
   "cell_type": "code",
   "execution_count": 5,
   "metadata": {},
   "outputs": [],
   "source": [
    "\n",
    "# load only some layer 5 cell types\n",
    "neurons = glob(os.path.join('hoc_combos_syn.1_0_10.allzips', 'L5_TTPC*', '')\n",
    "               )[:1]\n",
    "neurons += glob(os.path.join('hoc_combos_syn.1_0_10.allzips', 'L5_MC*', '')\n",
    "                )[:1]\n",
    "neurons += glob(os.path.join('hoc_combos_syn.1_0_10.allzips', 'L5_LBC*', '')\n",
    "                )[:1]\n",
    "neurons += glob(os.path.join('hoc_combos_syn.1_0_10.allzips', 'L5_NBC*', '')\n",
    "                )[:1]\n"
   ]
  },
  {
   "cell_type": "code",
   "execution_count": 6,
   "metadata": {},
   "outputs": [
    {
     "data": {
      "text/plain": [
       "[]"
      ]
     },
     "execution_count": 6,
     "metadata": {},
     "output_type": "execute_result"
    }
   ],
   "source": []
  }
 ],
 "metadata": {
  "kernelspec": {
   "display_name": "lfpy",
   "language": "python",
   "name": "python3"
  },
  "language_info": {
   "codemirror_mode": {
    "name": "ipython",
    "version": 3
   },
   "file_extension": ".py",
   "mimetype": "text/x-python",
   "name": "python",
   "nbconvert_exporter": "python",
   "pygments_lexer": "ipython3",
   "version": "3.12.6"
  }
 },
 "nbformat": 4,
 "nbformat_minor": 2
}
