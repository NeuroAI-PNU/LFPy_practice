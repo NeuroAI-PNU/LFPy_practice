{
 "cells": [
  {
   "cell_type": "markdown",
   "metadata": {},
   "source": [
    "## Example plot for LFPy: Hay et al. (2011) spike waveforms\n",
    "* https://github.com/LFPy/LFPy/blob/master/examples/LFPy-example-04.ipynb"
   ]
  },
  {
   "cell_type": "code",
   "execution_count": 1,
   "metadata": {},
   "outputs": [
    {
     "name": "stderr",
     "output_type": "stream",
     "text": [
      "Warning: no DISPLAY environment variable.\n",
      "--No graphics will be displayed.\n"
     ]
    }
   ],
   "source": [
    "import numpy as np\n",
    "import sys\n",
    "from urllib.request import urlopen\n",
    "import ssl\n",
    "from warnings import warn\n",
    "import zipfile\n",
    "import os\n",
    "import matplotlib.pyplot as plt\n",
    "from matplotlib.collections import LineCollection\n",
    "import LFPy\n",
    "import neuron\n",
    "%matplotlib inline"
   ]
  },
  {
   "cell_type": "code",
   "execution_count": null,
   "metadata": {},
   "outputs": [],
   "source": [
    "# Fetch Hay et al. 2011 model files\n",
    "if not os.path.isfile('FromModelDB/L5bPCmodelsEH/morphologies/cell1.asc'):\n",
    "    #get the model files:\n",
    "    u = urlopen('http://senselab.med.yale.edu/ModelDB/eavBinDown.asp?o=139653&a=23&mime=application/zip',\n",
    "                context=ssl._create_unverified_context())\n",
    "    localFile = open('L5bPCmodelsEH.zip', 'wb')\n",
    "    localFile.write(u.read())\n",
    "    localFile.close()\n",
    "    #unzip:\n",
    "    myzip = zipfile.ZipFile('L5bPCmodelsEH.zip', 'r')\n",
    "    myzip.extractall('.')\n",
    "    myzip.close()\n",
    "\n",
    "#compile mod files every time, because of incompatibility with Mainen96 files:\n",
    "if \"win32\" in sys.platform:\n",
    "    pth = \"L5bPCmodelsEH/mod/\"\n",
    "    warn(\"no autompile of NMODL (.mod) files on Windows.\\n\" \n",
    "         + \"Run mknrndll from NEURON bash in the folder L5bPCmodelsEH/mod and rerun example script\")\n",
    "    if not pth in neuron.nrn_dll_loaded:\n",
    "        neuron.h.nrn_load_dll(pth+\"nrnmech.dll\")\n",
    "    neuron.nrn_dll_loaded.append(pth)\n",
    "else:\n",
    "    os.system('''\n",
    "              cd L5bPCmodelsEH/mod/\n",
    "              nrnivmodl\n",
    "              ''')\n",
    "    neuron.load_mechanisms('L5bPCmodelsEH/mod/')"
   ]
  }
 ],
 "metadata": {
  "kernelspec": {
   "display_name": "lfpy",
   "language": "python",
   "name": "python3"
  },
  "language_info": {
   "codemirror_mode": {
    "name": "ipython",
    "version": 3
   },
   "file_extension": ".py",
   "mimetype": "text/x-python",
   "name": "python",
   "nbconvert_exporter": "python",
   "pygments_lexer": "ipython3",
   "version": "3.12.6"
  }
 },
 "nbformat": 4,
 "nbformat_minor": 2
}
